{
 "cells": [
  {
   "cell_type": "code",
   "execution_count": null,
   "id": "7a83f2e8",
   "metadata": {},
   "outputs": [],
   "source": [
    "from name_function import get_formatted_name\n",
    "print(\"Enter 'q' at any time to quit.\") \n",
    "while True: \n",
    "    first = input(\"\\nPlease give me a first name: \") \n",
    "    if first == 'q': \n",
    "        break \n",
    "last = input(\"Please give me a last name: \") \n",
    "if last == 'q': \n",
    "    break \n",
    "formatted_name = get_formatted_name(first, last) \n",
    "print(\"\\tNeatly formatted name: \" + formatted_name + '.') "
   ]
  }
 ],
 "metadata": {
  "kernelspec": {
   "display_name": "Python 3 (ipykernel)",
   "language": "python",
   "name": "python3"
  },
  "language_info": {
   "codemirror_mode": {
    "name": "ipython",
    "version": 3
   },
   "file_extension": ".py",
   "mimetype": "text/x-python",
   "name": "python",
   "nbconvert_exporter": "python",
   "pygments_lexer": "ipython3",
   "version": "3.9.13"
  }
 },
 "nbformat": 4,
 "nbformat_minor": 5
}
