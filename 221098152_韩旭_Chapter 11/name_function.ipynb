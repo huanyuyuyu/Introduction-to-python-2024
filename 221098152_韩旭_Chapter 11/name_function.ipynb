{
 "cells": [
  {
   "cell_type": "code",
   "execution_count": null,
   "id": "ee02d547",
   "metadata": {},
   "outputs": [],
   "source": [
    "def get_formatted_name(first, last): \n",
    " \"\"\"Generate a neatly formatted full name.\"\"\" \n",
    "    full_name = first + ' ' + last \n",
    "    return full_name.title() "
   ]
  }
 ],
 "metadata": {
  "kernelspec": {
   "display_name": "Python 3 (ipykernel)",
   "language": "python",
   "name": "python3"
  },
  "language_info": {
   "codemirror_mode": {
    "name": "ipython",
    "version": 3
   },
   "file_extension": ".py",
   "mimetype": "text/x-python",
   "name": "python",
   "nbconvert_exporter": "python",
   "pygments_lexer": "ipython3",
   "version": "3.9.13"
  }
 },
 "nbformat": 4,
 "nbformat_minor": 5
}
