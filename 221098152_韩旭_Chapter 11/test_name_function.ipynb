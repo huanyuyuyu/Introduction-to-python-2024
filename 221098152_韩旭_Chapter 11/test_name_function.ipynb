{
 "cells": [
  {
   "cell_type": "code",
   "execution_count": null,
   "id": "c0459837",
   "metadata": {},
   "outputs": [],
   "source": [
    "import unittest \n",
    "from name_function import get_formatted_name \n",
    "class NamesTestCase(unittest.TestCase): \n",
    "    \"\"\"测试name_function.py\"\"\" \n",
    "    def test_first_last_name(self): \n",
    "        \"\"\"能够正确地处理像Janis Joplin这样的姓名吗？\"\"\"        \n",
    "        formatted_name = get_formatted_name('janis', 'joplin') \n",
    "        self.assertEqual(formatted_name, 'Janis Joplin') \n",
    "unittest.main()"
   ]
  }
 ],
 "metadata": {
  "kernelspec": {
   "display_name": "Python 3 (ipykernel)",
   "language": "python",
   "name": "python3"
  },
  "language_info": {
   "codemirror_mode": {
    "name": "ipython",
    "version": 3
   },
   "file_extension": ".py",
   "mimetype": "text/x-python",
   "name": "python",
   "nbconvert_exporter": "python",
   "pygments_lexer": "ipython3",
   "version": "3.9.13"
  }
 },
 "nbformat": 4,
 "nbformat_minor": 5
}
