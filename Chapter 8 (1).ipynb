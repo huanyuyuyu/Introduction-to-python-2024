{
 "cells": [
  {
   "cell_type": "markdown",
   "id": "37f6e349",
   "metadata": {},
   "source": [
    "# 8.1 定义函数"
   ]
  },
  {
   "cell_type": "code",
   "execution_count": 3,
   "id": "54057c92",
   "metadata": {},
   "outputs": [
    {
     "name": "stdout",
     "output_type": "stream",
     "text": [
      "Hello！\n"
     ]
    }
   ],
   "source": [
    "def greet_user():\n",
    "    \"\"\"显示简单的问候语\"\"\"\n",
    "    print(\"Hello！\")\n",
    "greet_user()"
   ]
  },
  {
   "cell_type": "markdown",
   "id": "fcf9b1c4",
   "metadata": {},
   "source": [
    "## 8.1.1 向函数传递信息"
   ]
  },
  {
   "cell_type": "code",
   "execution_count": 4,
   "id": "b7ac9341",
   "metadata": {},
   "outputs": [
    {
     "name": "stdout",
     "output_type": "stream",
     "text": [
      "Hello,Jesse!\n"
     ]
    }
   ],
   "source": [
    "def greet_user(username):\n",
    "    \"\"\"显示简单的问候语\"\"\"\n",
    "    print(\"Hello,\"+ username.title() + \"!\")\n",
    "greet_user(\"Jesse\")"
   ]
  },
  {
   "cell_type": "markdown",
   "id": "2601458f",
   "metadata": {},
   "source": [
    "# 8.2 传递实参"
   ]
  },
  {
   "cell_type": "markdown",
   "id": "94cdeb0a",
   "metadata": {},
   "source": [
    "## 8.2.1 位置实参"
   ]
  },
  {
   "cell_type": "code",
   "execution_count": 6,
   "id": "c148053d",
   "metadata": {},
   "outputs": [
    {
     "name": "stdout",
     "output_type": "stream",
     "text": [
      "\n",
      "I have ahamster.\n",
      "Myhamsters’name isHarry.\n"
     ]
    }
   ],
   "source": [
    "def describe_pet(animal_type,pet_name):\n",
    "    \"\"\"显示宠物的信息\"\"\"\n",
    "    print(\"\\nI have a\" + animal_type + \".\")\n",
    "    print(\"My\" + animal_type + \"s’name is\"+ pet_name.title() + \".\")\n",
    "describe_pet(\"hamster\",\"harry\")"
   ]
  },
  {
   "cell_type": "code",
   "execution_count": 8,
   "id": "ab6a8e1d",
   "metadata": {},
   "outputs": [
    {
     "name": "stdout",
     "output_type": "stream",
     "text": [
      "\n",
      "I have ahamster.\n",
      "Myhamsters’name is Harry.\n",
      "\n",
      "I have adog.\n",
      "Mydogs’name is Willie.\n"
     ]
    }
   ],
   "source": [
    "def describe_pet(animal_type,pet_name):\n",
    "    \"\"\"显示宠物的信息\"\"\"\n",
    "    print(\"\\nI have a\" + animal_type + \".\")\n",
    "    print(\"My\" + animal_type + \"s’name is \"+ pet_name.title() + \".\")\n",
    "describe_pet(\"hamster\",\"harry\")\n",
    "describe_pet(\"dog\",\"willie\")"
   ]
  },
  {
   "cell_type": "code",
   "execution_count": 9,
   "id": "e36a4663",
   "metadata": {},
   "outputs": [
    {
     "name": "stdout",
     "output_type": "stream",
     "text": [
      "\n",
      "I have ahamster.\n",
      "Myhamsters’name is Harry.\n",
      "\n",
      "I have aharry.\n",
      "Myharrys’name is Hamster.\n"
     ]
    }
   ],
   "source": [
    "def describe_pet(animal_type,pet_name):\n",
    "    \"\"\"显示宠物的信息\"\"\"\n",
    "    print(\"\\nI have a\" + animal_type + \".\")\n",
    "    print(\"My\" + animal_type + \"s’name is \"+ pet_name.title() + \".\")\n",
    "describe_pet(\"hamster\",\"harry\")\n",
    "describe_pet(\"harry\",\"hamster\")"
   ]
  },
  {
   "cell_type": "markdown",
   "id": "60832158",
   "metadata": {},
   "source": [
    "## 8.2.2 关键字实参"
   ]
  },
  {
   "cell_type": "code",
   "execution_count": 11,
   "id": "488916a7",
   "metadata": {},
   "outputs": [
    {
     "name": "stdout",
     "output_type": "stream",
     "text": [
      "\n",
      "I have a hamster.\n",
      "My hamsters’name is Harry.\n"
     ]
    }
   ],
   "source": [
    "def describe_pet(animal_type,pet_name):\n",
    "    \"\"\"显示宠物的信息\"\"\"\n",
    "    print(\"\\nI have a \" + animal_type + \".\")\n",
    "    print(\"My \" + animal_type + \"s’name is \"+ pet_name.title() + \".\")\n",
    "describe_pet(animal_type=\"hamster\",pet_name=\"harry\")"
   ]
  },
  {
   "cell_type": "markdown",
   "id": "fbee52f3",
   "metadata": {},
   "source": [
    "## 8.2.3 默认值"
   ]
  },
  {
   "cell_type": "code",
   "execution_count": 13,
   "id": "c5884756",
   "metadata": {},
   "outputs": [
    {
     "name": "stdout",
     "output_type": "stream",
     "text": [
      "\n",
      "I have a dog.\n",
      "My dogs’name is Willie.\n"
     ]
    }
   ],
   "source": [
    "def describe_pet(pet_name,animal_type=\"dog\"):\n",
    "    \"\"\"显示宠物的信息\"\"\"\n",
    "    print(\"\\nI have a \" + animal_type + \".\")\n",
    "    print(\"My \" + animal_type + \"s’name is \"+ pet_name.title() + \".\")\n",
    "describe_pet(pet_name=\"willie\")"
   ]
  },
  {
   "cell_type": "markdown",
   "id": "cefb041d",
   "metadata": {},
   "source": [
    "## 8.2.4 等效的函数调用"
   ]
  },
  {
   "cell_type": "code",
   "execution_count": 16,
   "id": "3627f06b",
   "metadata": {},
   "outputs": [],
   "source": [
    "def describe_pet(pet_name,animal_type=\"dog\"):\n",
    "    describe_pet(\"willie\")\n",
    "    describe_pet(pet_name = \"willie\")\n",
    "    describe_pet(\"harry\",\"hamster\")\n",
    "    describe_pet(pet_name = \"harry\",animal_type= \"hamster\")\n",
    "    describe_pet(animal_type=\"hamster\",pet_name=\"harry\")"
   ]
  },
  {
   "cell_type": "markdown",
   "id": "9334e177",
   "metadata": {},
   "source": [
    "## 8.3 返回值"
   ]
  },
  {
   "cell_type": "code",
   "execution_count": 21,
   "id": "c315e8bb",
   "metadata": {},
   "outputs": [
    {
     "name": "stdout",
     "output_type": "stream",
     "text": [
      "Jimi Hendrix\n"
     ]
    }
   ],
   "source": [
    "def get_formatted_name(first_name,last_name):\n",
    "    \"\"\"返回整洁的姓名\"\"\"\n",
    "    full_name = first_name + \" \" + last_name\n",
    "    return full_name.title()\n",
    "musician = get_formatted_name(\"jimi\",\"hendrix\")\n",
    "print(musician)"
   ]
  },
  {
   "cell_type": "markdown",
   "id": "ae7debba",
   "metadata": {},
   "source": [
    "### 8.3.2 让实参变成可选的"
   ]
  },
  {
   "cell_type": "code",
   "execution_count": 19,
   "id": "c067ad77",
   "metadata": {},
   "outputs": [
    {
     "name": "stdout",
     "output_type": "stream",
     "text": [
      "John Lee Hooker\n"
     ]
    }
   ],
   "source": [
    "def  get_formatted_name(first_name,middle_name,last_name):\n",
    "    \"\"\"返回整洁的姓名\"\"\"\n",
    "    full_name = first_name+\" \"+middle_name+\" \"+last_name\n",
    "    return full_name.title()\n",
    "musician = get_formatted_name(\"john\",\"lee\",\"hooker\")\n",
    "print(musician)"
   ]
  },
  {
   "cell_type": "code",
   "execution_count": 20,
   "id": "3ae6c85b",
   "metadata": {},
   "outputs": [
    {
     "name": "stdout",
     "output_type": "stream",
     "text": [
      "Jimi Hendrix\n",
      "Join Hooker Hooker\n"
     ]
    }
   ],
   "source": [
    "def get_formatted_name(first_name,last_name,middle_name=\"\"):\n",
    "    \"\"\"返回整洁的姓名\"\"\"\n",
    "    if middle_name:\n",
    "        full_name = first_name+\" \"+last_name+\" \"+ last_name\n",
    "    else:\n",
    "        full_name = first_name + \" \"+last_name\n",
    "    return full_name.title()\n",
    "musician = get_formatted_name(\"jimi\",\"hendrix\")\n",
    "print(musician)\n",
    "musician = get_formatted_name(\"join\",\"hooker\",\"lee\")\n",
    "print(musician)"
   ]
  },
  {
   "cell_type": "markdown",
   "id": "df6ab93d",
   "metadata": {},
   "source": [
    "### 8.3.3 返回字典"
   ]
  },
  {
   "cell_type": "code",
   "execution_count": 22,
   "id": "d389e423",
   "metadata": {},
   "outputs": [
    {
     "name": "stdout",
     "output_type": "stream",
     "text": [
      "{'first': 'jimi', 'last': 'hendrix'}\n"
     ]
    }
   ],
   "source": [
    "def build_person(first_name,last_name):\n",
    "    \"\"\"返回一个字典，其中包含有关一个人的信息\"\"\"\n",
    "    person = {\"first\":first_name,\"last\":last_name}\n",
    "    return person\n",
    "musician = build_person(\"jimi\",\"hendrix\")\n",
    "print(musician)"
   ]
  },
  {
   "cell_type": "markdown",
   "id": "b2e82f46",
   "metadata": {},
   "source": [
    "### 8.3.4结合使用函数和while循环"
   ]
  },
  {
   "cell_type": "code",
   "execution_count": 6,
   "id": "b30ee6df",
   "metadata": {},
   "outputs": [
    {
     "name": "stdout",
     "output_type": "stream",
     "text": [
      "\n",
      "Please tell me your name:\n",
      "(enter 'q' at any time to quit)\n",
      "First name: Eric\n",
      "Last name:matthes\n",
      "\n",
      "Hello,Eric Matthes!\n",
      "\n",
      "Please tell me your name:\n",
      "(enter 'q' at any time to quit)\n",
      "First name: q\n"
     ]
    }
   ],
   "source": [
    "def get_formatted_name(first_name,last_name):\n",
    "    \"\"\"返回整洁的姓名\"\"\"\n",
    "    full_name = first_name+\" \"+ last_name\n",
    "    return full_name.title()\n",
    "\n",
    "while True:\n",
    "    print(\"\\nPlease tell me your name:\")\n",
    "    print(\"(enter 'q' at any time to quit)\")\n",
    "    \n",
    "    f_name = input(\"First name: \")\n",
    "    if f_name == \"q\":\n",
    "        break\n",
    "    l_name = input(\"Last name:\")\n",
    "    if l_name == \"q\":\n",
    "        break\n",
    "    formatted_name = get_formatted_name(f_name,l_name)\n",
    "    print(\"\\nHello,\"+ formatted_name + \"!\")\n",
    "    "
   ]
  },
  {
   "cell_type": "markdown",
   "id": "9497ba89",
   "metadata": {},
   "source": [
    "## 8.4 传递列表"
   ]
  },
  {
   "cell_type": "code",
   "execution_count": 7,
   "id": "16bd84bb",
   "metadata": {},
   "outputs": [
    {
     "name": "stdout",
     "output_type": "stream",
     "text": [
      "Hello,Hannah!\n",
      "Hello,Ty!\n",
      "Hello,Margot!\n"
     ]
    }
   ],
   "source": [
    "def greet_users(names):\n",
    "    \"\"\"向列表中的每位用户都发出简单的问候\"\"\"\n",
    "    for name in names:\n",
    "        msg = \"Hello,\" + name.title() + \"!\"\n",
    "        print(msg)\n",
    "usernames = [\"hannah\",\"ty\",\"margot\"]\n",
    "greet_users(usernames)"
   ]
  },
  {
   "cell_type": "markdown",
   "id": "f0a189ba",
   "metadata": {},
   "source": [
    "### 8.4.1 在函数中修改列表"
   ]
  },
  {
   "cell_type": "code",
   "execution_count": 10,
   "id": "0b0751f5",
   "metadata": {},
   "outputs": [
    {
     "name": "stdout",
     "output_type": "stream",
     "text": [
      "Printing model:dodecahedron\n",
      "Printing model:robot pendant\n",
      "Printing model:iphone case\n",
      "\n",
      "The following models have been printed:\n",
      "dodecahedron\n",
      "robot pendant\n",
      "iphone case\n"
     ]
    }
   ],
   "source": [
    "unprinted_designs = [ \"iphone case\",\"robot pendant\",\"dodecahedron\"]\n",
    "completed_models = []\n",
    "while unprinted_designs:\n",
    "    current_design = unprinted_designs.pop()\n",
    "    print(\"Printing model:\" +current_design)\n",
    "    completed_models.append(current_design)\n",
    "print(\"\\nThe following models have been printed:\")\n",
    "for completed_model in completed_models:\n",
    "    print(completed_model)"
   ]
  },
  {
   "cell_type": "code",
   "execution_count": 11,
   "id": "24e921d6",
   "metadata": {},
   "outputs": [
    {
     "name": "stdout",
     "output_type": "stream",
     "text": [
      "Printing model:dodecahedron\n",
      "Printing model:robot pendant\n",
      "Printing model:iphone case\n",
      "\n",
      "The following models have been printed\n"
     ]
    }
   ],
   "source": [
    "def print_models(unprinted_designs,completed_models):\n",
    "    while unprinted_designs:\n",
    "        current_design = unprinted_designs.pop()\n",
    "        print(\"Printing model:\" + current_design)\n",
    "        \n",
    "def show_completed_models(completed_models):\n",
    "    \"\"\"显示打印好的所有模型\"\"\"\n",
    "    print(\"\\nThe following models have been printed\")\n",
    "    \n",
    "    for completed_model in completed_models:\n",
    "        print(completed_model)\n",
    "        \n",
    "unprinted_designs = [\"iphone case\",\"robot pendant\",\"dodecahedron\"]\n",
    "completed_models = []\n",
    "\n",
    "print_models(unprinted_designs,completed_models)\n",
    "show_completed_models(completed_models)"
   ]
  },
  {
   "cell_type": "markdown",
   "id": "c7515585",
   "metadata": {},
   "source": [
    "## 8.1-8.4 习题"
   ]
  },
  {
   "cell_type": "code",
   "execution_count": 12,
   "id": "0e3eca8b",
   "metadata": {},
   "outputs": [],
   "source": [
    "#8-1习题"
   ]
  },
  {
   "cell_type": "code",
   "execution_count": 14,
   "id": "e5b38bad",
   "metadata": {},
   "outputs": [
    {
     "name": "stdout",
     "output_type": "stream",
     "text": [
      "I learn Python\n"
     ]
    }
   ],
   "source": [
    "def display_message(k):\n",
    "    print(\"I learn\"+\" \"+k)\n",
    "m = \"Python\"\n",
    "display_message(m)"
   ]
  },
  {
   "cell_type": "code",
   "execution_count": null,
   "id": "ce020e1b",
   "metadata": {},
   "outputs": [],
   "source": [
    "#8-2习题"
   ]
  },
  {
   "cell_type": "code",
   "execution_count": 18,
   "id": "2fff6014",
   "metadata": {},
   "outputs": [
    {
     "name": "stdout",
     "output_type": "stream",
     "text": [
      "One of my favorite books is Alice is me\n"
     ]
    }
   ],
   "source": [
    "def favorite_book(title):\n",
    "    print(\"One of my favorite books is \"+title)\n",
    "favorite_book(\"Alice is me\")\n",
    "    "
   ]
  },
  {
   "cell_type": "code",
   "execution_count": null,
   "id": "ec784468",
   "metadata": {},
   "outputs": [],
   "source": [
    "# 8.3习题"
   ]
  },
  {
   "cell_type": "code",
   "execution_count": 22,
   "id": "eaefd795",
   "metadata": {},
   "outputs": [
    {
     "name": "stdout",
     "output_type": "stream",
     "text": [
      "The T-shirt is 3 5\n"
     ]
    }
   ],
   "source": [
    "def make_shirt(a,b):\n",
    "    print(\"The T-shirt is \"+a+\" \"+b)\n",
    "make_shirt(\"3\",\"5\")"
   ]
  },
  {
   "cell_type": "code",
   "execution_count": 23,
   "id": "0b2b8620",
   "metadata": {},
   "outputs": [],
   "source": [
    "#8-4习题"
   ]
  },
  {
   "cell_type": "code",
   "execution_count": 26,
   "id": "055fac9a",
   "metadata": {},
   "outputs": [
    {
     "name": "stdout",
     "output_type": "stream",
     "text": [
      "The T-shirt say I love python\n"
     ]
    }
   ],
   "source": [
    "def make_shirt(size = \"large\",message = \"I love python\"):\n",
    "    print(\"The T-shirt say \"+\"I love python\")\n",
    "make_shirt()"
   ]
  },
  {
   "cell_type": "code",
   "execution_count": 25,
   "id": "7fa27069",
   "metadata": {},
   "outputs": [],
   "source": [
    "#8-5习题"
   ]
  },
  {
   "cell_type": "code",
   "execution_count": 29,
   "id": "92d4078a",
   "metadata": {},
   "outputs": [
    {
     "name": "stdout",
     "output_type": "stream",
     "text": [
      "Beijingis in Iceland China\n",
      "Newyorkis in Iceland US\n",
      "Dong Jingis in Iceland Japan\n"
     ]
    }
   ],
   "source": [
    "def describe_city(a = \"Reykjavik\",b = \"Iceland\"):\n",
    "    print(a + \"is in Iceland \"+b)\n",
    "describe_city(\"Beijing\",\"China\")\n",
    "describe_city(\"Newyork\",\"US\")\n",
    "describe_city(\"Dong Jing\",\"Japan\")"
   ]
  },
  {
   "cell_type": "code",
   "execution_count": 30,
   "id": "f7bad924",
   "metadata": {},
   "outputs": [],
   "source": [
    "#8-6习题"
   ]
  },
  {
   "cell_type": "code",
   "execution_count": 38,
   "id": "ad37d276",
   "metadata": {},
   "outputs": [
    {
     "name": "stdout",
     "output_type": "stream",
     "text": [
      "Beijing China\n"
     ]
    },
    {
     "data": {
      "text/plain": [
       "'Beijing China'"
      ]
     },
     "execution_count": 38,
     "metadata": {},
     "output_type": "execute_result"
    }
   ],
   "source": [
    "def city_country(a,b):\n",
    "    print(a+\" \"+b)\n",
    "    return f\"{a} {b}\"\n",
    "city_country(\"Beijing\",\"China\")\n"
   ]
  },
  {
   "cell_type": "code",
   "execution_count": 39,
   "id": "21627600",
   "metadata": {},
   "outputs": [],
   "source": [
    "#8-7习题"
   ]
  },
  {
   "cell_type": "code",
   "execution_count": 42,
   "id": "20e8ae04",
   "metadata": {},
   "outputs": [
    {
     "name": "stdout",
     "output_type": "stream",
     "text": [
      "{'singer': '周杰伦', 'album': '范特西'}\n",
      "{'singer': '林俊杰', 'album': '她说'}\n",
      "{'singer': '王菲', 'album': '天空'}\n"
     ]
    }
   ],
   "source": [
    "def make_album(singer, album):\n",
    "    return {\"singer\": singer, \"album\": album}\n",
    "print(make_album(\"周杰伦\", \"范特西\"))\n",
    "print(make_album(\"林俊杰\", \"她说\"))\n",
    "print(make_album(\"王菲\", \"天空\"))"
   ]
  },
  {
   "cell_type": "code",
   "execution_count": 45,
   "id": "d82922bb",
   "metadata": {},
   "outputs": [
    {
     "name": "stdout",
     "output_type": "stream",
     "text": [
      "{'singer': '周杰伦', 'album': '范特西', 10: 10}\n",
      "{'singer': '林俊杰', 'album': '她说'}\n",
      "{'singer': '王菲', 'album': '天空'}\n"
     ]
    }
   ],
   "source": [
    "def make_album(singer,album,num_song = None):\n",
    "    album_info = {\"singer\": singer, \"album\": album}\n",
    "    if num_song:\n",
    "        album_info[num_song]=num_song\n",
    "    return album_info\n",
    "print(make_album(\"周杰伦\", \"范特西\",10))\n",
    "print(make_album(\"林俊杰\", \"她说\"))\n",
    "print(make_album(\"王菲\", \"天空\"))"
   ]
  },
  {
   "cell_type": "code",
   "execution_count": 41,
   "id": "a9c51d50",
   "metadata": {},
   "outputs": [],
   "source": [
    "#8-8习题"
   ]
  },
  {
   "cell_type": "code",
   "execution_count": 46,
   "id": "be7fde95",
   "metadata": {},
   "outputs": [
    {
     "name": "stdout",
     "output_type": "stream",
     "text": [
      "请输入专辑的歌手（输入 'q' 退出）：q\n"
     ]
    }
   ],
   "source": [
    "def make_album(singer,album,num_song = None):\n",
    "    album_info = {\"singer\": singer, \"album\": album}\n",
    "    if num_song:\n",
    "        album_info[num_song]=num_song\n",
    "    return album_info\n",
    "while True:\n",
    "    singer = input(\"请输入专辑的歌手（输入 'q' 退出）：\")\n",
    "    if singer == 'q':\n",
    "        break\n",
    "    album = input(\"请输入专辑的名称（输入 'q' 退出）：\")\n",
    "    if album == 'q':\n",
    "        break\n",
    "    album_info = make_album(singer, album)\n",
    "    print(album_info)"
   ]
  },
  {
   "cell_type": "code",
   "execution_count": 47,
   "id": "5a6c3949",
   "metadata": {},
   "outputs": [],
   "source": [
    "# 8-9习题"
   ]
  },
  {
   "cell_type": "code",
   "execution_count": 48,
   "id": "6c51fb54",
   "metadata": {},
   "outputs": [
    {
     "name": "stdout",
     "output_type": "stream",
     "text": [
      "大卫·科波菲尔\n",
      "克里斯·安吉尔\n",
      "达里尔·穆罗\n"
     ]
    }
   ],
   "source": [
    " def show_magicians(magicians):\n",
    "    for magician in magicians:\n",
    "        print(magician)\n",
    "magicians = ['大卫·科波菲尔', '克里斯·安吉尔', '达里尔·穆罗']\n",
    "show_magicians(magicians)"
   ]
  },
  {
   "cell_type": "code",
   "execution_count": 49,
   "id": "076bb003",
   "metadata": {},
   "outputs": [],
   "source": [
    "#8-10习题"
   ]
  },
  {
   "cell_type": "code",
   "execution_count": 50,
   "id": "63b24bb1",
   "metadata": {},
   "outputs": [
    {
     "name": "stdout",
     "output_type": "stream",
     "text": [
      "the Great 大卫·科波菲尔\n",
      "the Great 克里斯·安吉尔\n",
      "the Great 达里尔·穆罗\n"
     ]
    }
   ],
   "source": [
    "def show_magicians(magicians):\n",
    "    for magician in magicians:\n",
    "        print(magician)\n",
    "\n",
    "def make_great(magicians):\n",
    "    for i in range(len(magicians)):\n",
    "        magicians[i] = 'the Great ' + magicians[i]\n",
    "\n",
    "magicians = ['大卫·科波菲尔', '克里斯·安吉尔', '达里尔·穆罗']\n",
    "make_great(magicians)\n",
    "show_magicians(magicians)"
   ]
  },
  {
   "cell_type": "code",
   "execution_count": null,
   "id": "ac66e7d8",
   "metadata": {},
   "outputs": [],
   "source": [
    "#8-11习题"
   ]
  },
  {
   "cell_type": "code",
   "execution_count": 51,
   "id": "48b29eef",
   "metadata": {},
   "outputs": [
    {
     "name": "stdout",
     "output_type": "stream",
     "text": [
      "Original magicians:\n",
      "大卫·科波菲尔\n",
      "克里斯·安吉尔\n",
      "达里尔·穆罗\n",
      "Great magicians:\n",
      "the Great 大卫·科波菲尔\n",
      "the Great 克里斯·安吉尔\n",
      "the Great 达里尔·穆罗\n"
     ]
    }
   ],
   "source": [
    "def show_magicians(magicians):\n",
    "    for magician in magicians:\n",
    "        print(magician)\n",
    "\n",
    "def make_great(magicians):\n",
    "    great_magicians = []\n",
    "    for i in range(len(magicians)):\n",
    "        great_magicians.append('the Great ' + magicians[i])\n",
    "    return great_magicians\n",
    "\n",
    "magicians = ['大卫·科波菲尔', '克里斯·安吉尔', '达里尔·穆罗']\n",
    "original_magicians = magicians[:]\n",
    "great_magicians = make_great(original_magicians)\n",
    "\n",
    "print(\"Original magicians:\")\n",
    "show_magicians(original_magicians)\n",
    "print(\"Great magicians:\")\n",
    "show_magicians(great_magicians)"
   ]
  },
  {
   "cell_type": "code",
   "execution_count": null,
   "id": "ddf02bdf",
   "metadata": {},
   "outputs": [],
   "source": []
  }
 ],
 "metadata": {
  "kernelspec": {
   "display_name": "Python 3 (ipykernel)",
   "language": "python",
   "name": "python3"
  },
  "language_info": {
   "codemirror_mode": {
    "name": "ipython",
    "version": 3
   },
   "file_extension": ".py",
   "mimetype": "text/x-python",
   "name": "python",
   "nbconvert_exporter": "python",
   "pygments_lexer": "ipython3",
   "version": "3.9.13"
  }
 },
 "nbformat": 4,
 "nbformat_minor": 5
}
