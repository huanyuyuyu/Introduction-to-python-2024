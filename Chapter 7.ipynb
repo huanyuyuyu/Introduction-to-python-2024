{
 "cells": [
  {
   "cell_type": "markdown",
   "id": "a030d3d7",
   "metadata": {},
   "source": [
    "# 7.1 函数input()的工作原理"
   ]
  },
  {
   "cell_type": "code",
   "execution_count": 1,
   "id": "bb7a75f1",
   "metadata": {},
   "outputs": [
    {
     "name": "stdout",
     "output_type": "stream",
     "text": [
      "Tell me something,and I will repeat it back to you:haha\n",
      "haha\n"
     ]
    }
   ],
   "source": [
    "message = input(\"Tell me something,and I will repeat it back to you:\")\n",
    "print(message)"
   ]
  },
  {
   "cell_type": "markdown",
   "id": "c0b79e0e",
   "metadata": {},
   "source": [
    "## 7.1.1 编写清晰的程序"
   ]
  },
  {
   "cell_type": "code",
   "execution_count": null,
   "id": "40a03288",
   "metadata": {},
   "outputs": [],
   "source": [
    "name = input(\"Please enter your name:\")\n",
    "print(\"Hello,\"+ name +\"!\")"
   ]
  },
  {
   "cell_type": "code",
   "execution_count": 1,
   "id": "cd341140",
   "metadata": {},
   "outputs": [
    {
     "name": "stdout",
     "output_type": "stream",
     "text": [
      "If you tell us who you are,we can personalize the messages you see/\n",
      "What is your first name?Han\n",
      "\n",
      "Hello,Han\n"
     ]
    }
   ],
   "source": [
    "prompt = \"If you tell us who you are,we can personalize the messages you see/\"\n",
    "prompt += \"\\nWhat is your first name?\"\n",
    "name = input(prompt)\n",
    "print(\"\\nHello,\"+ name)"
   ]
  },
  {
   "cell_type": "markdown",
   "id": "2662fc7b",
   "metadata": {},
   "source": [
    "### 7.1.2 使用int()来获取数值输入"
   ]
  },
  {
   "cell_type": "code",
   "execution_count": 2,
   "id": "c14ffdb0",
   "metadata": {},
   "outputs": [
    {
     "name": "stdout",
     "output_type": "stream",
     "text": [
      "How old are you?21\n"
     ]
    }
   ],
   "source": [
    "age = input(\"How old are you?\")\n"
   ]
  },
  {
   "cell_type": "code",
   "execution_count": 3,
   "id": "b25794eb",
   "metadata": {},
   "outputs": [
    {
     "name": "stdout",
     "output_type": "stream",
     "text": [
      "How old are you?15\n"
     ]
    }
   ],
   "source": [
    "age = input(\"How old are you?\")"
   ]
  },
  {
   "cell_type": "code",
   "execution_count": 7,
   "id": "ffdad4b9",
   "metadata": {},
   "outputs": [
    {
     "name": "stdout",
     "output_type": "stream",
     "text": [
      "How old are you ?18\n"
     ]
    },
    {
     "data": {
      "text/plain": [
       "True"
      ]
     },
     "execution_count": 7,
     "metadata": {},
     "output_type": "execute_result"
    }
   ],
   "source": [
    "age = input(\"How old are you ?\")\n",
    "age = int(age)\n",
    "age>=18"
   ]
  },
  {
   "cell_type": "code",
   "execution_count": 9,
   "id": "41a37f01",
   "metadata": {},
   "outputs": [
    {
     "name": "stdout",
     "output_type": "stream",
     "text": [
      "How tall are you,in inches?71\n",
      "\n",
      "You're tall enough to ride\n"
     ]
    }
   ],
   "source": [
    "height = input(\"How tall are you,in inches?\")\n",
    "height = int(height)\n",
    "if height >= 36:\n",
    "    print(\"\\nYou're tall enough to ride\")\n",
    "else:\n",
    "    print(\"\\nYou tall enough to ride!\")\n",
    "    "
   ]
  },
  {
   "cell_type": "markdown",
   "id": "846fbb59",
   "metadata": {},
   "source": [
    "### 7.1.3求模运算符"
   ]
  },
  {
   "cell_type": "code",
   "execution_count": 11,
   "id": "31530771",
   "metadata": {},
   "outputs": [
    {
     "data": {
      "text/plain": [
       "1"
      ]
     },
     "execution_count": 11,
     "metadata": {},
     "output_type": "execute_result"
    }
   ],
   "source": [
    "4%3"
   ]
  },
  {
   "cell_type": "code",
   "execution_count": 1,
   "id": "adb22d9b",
   "metadata": {},
   "outputs": [
    {
     "data": {
      "text/plain": [
       "2"
      ]
     },
     "execution_count": 1,
     "metadata": {},
     "output_type": "execute_result"
    }
   ],
   "source": [
    "5%3"
   ]
  },
  {
   "cell_type": "code",
   "execution_count": 2,
   "id": "2998eac5",
   "metadata": {},
   "outputs": [
    {
     "data": {
      "text/plain": [
       "0"
      ]
     },
     "execution_count": 2,
     "metadata": {},
     "output_type": "execute_result"
    }
   ],
   "source": [
    "6%3"
   ]
  },
  {
   "cell_type": "code",
   "execution_count": 3,
   "id": "e86d6760",
   "metadata": {},
   "outputs": [
    {
     "data": {
      "text/plain": [
       "1"
      ]
     },
     "execution_count": 3,
     "metadata": {},
     "output_type": "execute_result"
    }
   ],
   "source": [
    "7%3"
   ]
  },
  {
   "cell_type": "code",
   "execution_count": 5,
   "id": "ac9df38c",
   "metadata": {},
   "outputs": [
    {
     "name": "stdout",
     "output_type": "stream",
     "text": [
      "Enter a number,and I'll tell you if it's even or odd;42\n",
      "\n",
      "The number 42is even\n"
     ]
    }
   ],
   "source": [
    "number = input(\"Enter a number,and I'll tell you if it's even or odd;\")\n",
    "number = int(number)\n",
    "if number % 2 == 0:\n",
    "    print(\"\\nThe number \"+ str(number)+ \"is even\")\n",
    "else:\n",
    "    print(\"\\nThe number \"+ str(number)+ \"is odd.\")\n",
    "    "
   ]
  },
  {
   "cell_type": "markdown",
   "id": "c317650c",
   "metadata": {},
   "source": [
    "### 7.1.4 在Python 2.7中获取输入"
   ]
  },
  {
   "cell_type": "code",
   "execution_count": 6,
   "id": "9286ba0f",
   "metadata": {},
   "outputs": [],
   "source": [
    "#习题7-1"
   ]
  },
  {
   "cell_type": "code",
   "execution_count": 1,
   "id": "44faec7e",
   "metadata": {},
   "outputs": [
    {
     "name": "stdout",
     "output_type": "stream",
     "text": [
      "请问您想要租赁什么样的汽车？car\n",
      "让我看看能否为您找到一辆car\n"
     ]
    }
   ],
   "source": [
    "car_type = input(\"请问您想要租赁什么样的汽车？\")\n",
    "print(\"让我看看能否为您找到一辆\" + car_type)"
   ]
  },
  {
   "cell_type": "code",
   "execution_count": null,
   "id": "a36b1bcf",
   "metadata": {},
   "outputs": [],
   "source": [
    "#习题7-2"
   ]
  },
  {
   "cell_type": "code",
   "execution_count": null,
   "id": "477da03f",
   "metadata": {},
   "outputs": [],
   "source": [
    "num_people = int(input(\"请问有多少人用餐？\"))\n",
    "if num_people > 8:\n",
    "    print(\"没有空桌\")\n",
    "else:\n",
    "    print(\"有空桌\""
   ]
  },
  {
   "cell_type": "code",
   "execution_count": null,
   "id": "8390d4f6",
   "metadata": {},
   "outputs": [],
   "source": [
    "#习题7-3"
   ]
  },
  {
   "cell_type": "code",
   "execution_count": null,
   "id": "6baad094",
   "metadata": {},
   "outputs": [],
   "source": [
    "num = int(input(\"请输入一个数字：\"))\n",
    "if num % 10 == 0:\n",
    "    print(\"这个数字是 10 的整数倍\")\n",
    "else:\n",
    "    print(\"这个数字不是 10 的整数倍\")"
   ]
  },
  {
   "cell_type": "markdown",
   "id": "50f3e045",
   "metadata": {},
   "source": [
    "## 7.2 while 循环简介"
   ]
  },
  {
   "cell_type": "markdown",
   "id": "c760e4fa",
   "metadata": {},
   "source": [
    "### 7.2.1 使用while循环"
   ]
  },
  {
   "cell_type": "code",
   "execution_count": 1,
   "id": "4917bda2",
   "metadata": {},
   "outputs": [
    {
     "name": "stdout",
     "output_type": "stream",
     "text": [
      "1\n",
      "2\n",
      "3\n",
      "4\n",
      "5\n"
     ]
    }
   ],
   "source": [
    "current_number = 1\n",
    "while current_number <= 5:\n",
    "    print(current_number)\n",
    "    current_number += 1"
   ]
  },
  {
   "cell_type": "markdown",
   "id": "819a1198",
   "metadata": {},
   "source": [
    "### 7.2.2 让用户选择何时推出"
   ]
  },
  {
   "cell_type": "code",
   "execution_count": null,
   "id": "3f979d78",
   "metadata": {},
   "outputs": [],
   "source": [
    "prompt = \"\\nTell me somthing,and I will repeat it back to you\"\n",
    "prompt +=\"\\nEnter ‘quit’to end the program.\"\n",
    "message = \"\"\n",
    "while message != \"quit\":\n",
    "    message = input(prompt)\n",
    "    print(message)"
   ]
  },
  {
   "cell_type": "code",
   "execution_count": null,
   "id": "a9b6d08e",
   "metadata": {},
   "outputs": [],
   "source": [
    "prompt = \"\\nTell me somthing,and I will repeat it back to you\"\n",
    "prompt +=\"\\nEnter ‘quit’to end the program.\"\n",
    "message = \"\"\n",
    "while message != \"quit\":\n",
    "    message = input(prompt)\n",
    "    if message != \"quit\":\n",
    "        print(message)\n",
    "    "
   ]
  },
  {
   "cell_type": "markdown",
   "id": "0bd25ca9",
   "metadata": {},
   "source": [
    "### 7.2.3 使用标志"
   ]
  },
  {
   "cell_type": "code",
   "execution_count": null,
   "id": "25934c96",
   "metadata": {},
   "outputs": [],
   "source": [
    "prompt = \"\\nTell me something,and I will repeat it back to you:\"\n",
    "prompt += \"\\nEnter 'quit' to end the program.\"\n",
    "active = Ture\n",
    "while active;\n",
    "    message = input(prompt)\n",
    "    if message == \"quit\":\n",
    "        active = False\n",
    "    else:\n",
    "        print(message)"
   ]
  },
  {
   "cell_type": "markdown",
   "id": "1be08570",
   "metadata": {},
   "source": [
    "### 7.2.4 使用break推出循环"
   ]
  },
  {
   "cell_type": "code",
   "execution_count": null,
   "id": "7cae25d8",
   "metadata": {},
   "outputs": [],
   "source": [
    "prompt = \"\\nPlease enter the name of a city you have visited:\"\n",
    "prompt += \"\\n(Enter \"quit\" when you are finished)\"\n",
    "while True:\n",
    "    city = input(prompt)\n",
    "    if city == \"quit\":\n",
    "        break\n",
    "    else:\n",
    "        print(\"I'd love to go to\"+ city.title()+\"！\")\n"
   ]
  },
  {
   "cell_type": "markdown",
   "id": "39d9c116",
   "metadata": {},
   "source": [
    "### 7.2.5 在循环中使用continue"
   ]
  },
  {
   "cell_type": "code",
   "execution_count": null,
   "id": "f8de5f20",
   "metadata": {},
   "outputs": [],
   "source": [
    "current_number = 0\n",
    "while current_number < 10:\n",
    "    current_number += 1\n",
    "    if current_number % 2 ==0:\n",
    "        continue\n",
    "    print(current_number)\n"
   ]
  },
  {
   "cell_type": "markdown",
   "id": "ef815992",
   "metadata": {},
   "source": [
    "### 7.2.6 避免无限循环"
   ]
  },
  {
   "cell_type": "code",
   "execution_count": 1,
   "id": "8bf3650d",
   "metadata": {},
   "outputs": [
    {
     "name": "stdout",
     "output_type": "stream",
     "text": [
      "1\n",
      "2\n",
      "3\n",
      "4\n",
      "5\n"
     ]
    }
   ],
   "source": [
    "x = 1\n",
    "while x <= 5:\n",
    "    print(x)\n",
    "    x += 1"
   ]
  },
  {
   "cell_type": "markdown",
   "id": "89b6448d",
   "metadata": {},
   "source": [
    "### 7.3 使用while循环来处理列表和字典"
   ]
  },
  {
   "cell_type": "markdown",
   "id": "ff9174d1",
   "metadata": {},
   "source": [
    "### 7.3.1 在列表之间移动元素"
   ]
  },
  {
   "cell_type": "code",
   "execution_count": 2,
   "id": "2a9701cf",
   "metadata": {},
   "outputs": [
    {
     "name": "stdout",
     "output_type": "stream",
     "text": [
      "Verifying user: Candace\n",
      "Verifying user: Brian\n",
      "Verifying user: Alice\n",
      "\n",
      "The following users have been confirmed:\n",
      "Candace\n",
      "Brian\n",
      "Alice\n"
     ]
    }
   ],
   "source": [
    "unconfirmed_users = [\"alice\", \"brian\", \"candace\"]\n",
    "confirmed_users = []\n",
    "while unconfirmed_users:\n",
    "    current_user = unconfirmed_users.pop()\n",
    "    print(\"Verifying user: \" + current_user.title())\n",
    "    confirmed_users.append(current_user)\n",
    "print(\"\\nThe following users have been confirmed:\")\n",
    "for confirmed_user in confirmed_users:\n",
    "    print(confirmed_user.title())"
   ]
  },
  {
   "cell_type": "markdown",
   "id": "d795e08e",
   "metadata": {},
   "source": [
    "### 7.3.2 删除包含特定值的所有列表元素"
   ]
  },
  {
   "cell_type": "code",
   "execution_count": 7,
   "id": "aab606bb",
   "metadata": {},
   "outputs": [
    {
     "ename": "SyntaxError",
     "evalue": "invalid syntax (1116577356.py, line 3)",
     "output_type": "error",
     "traceback": [
      "\u001b[1;36m  File \u001b[1;32m\"C:\\Users\\HP\\AppData\\Local\\Temp\\ipykernel_30512\\1116577356.py\"\u001b[1;36m, line \u001b[1;32m3\u001b[0m\n\u001b[1;33m    while \"cat\" in pets;\u001b[0m\n\u001b[1;37m                       ^\u001b[0m\n\u001b[1;31mSyntaxError\u001b[0m\u001b[1;31m:\u001b[0m invalid syntax\n"
     ]
    }
   ],
   "source": [
    "pets = [\"dog\",\"cat\",\"dog\",\"goldfish\",\"cat\",\"rabbit\",\"cat\"]\n",
    "print(pets)\n",
    "while \"cat\" in pets;\n",
    "    pets.remove(\"cat\")\n",
    "print(pets)"
   ]
  },
  {
   "cell_type": "markdown",
   "id": "cbd9d5c0",
   "metadata": {},
   "source": [
    "### 7.3.3 使用用户输入来填充字典"
   ]
  },
  {
   "cell_type": "code",
   "execution_count": 3,
   "id": "69502bdd",
   "metadata": {},
   "outputs": [
    {
     "name": "stdout",
     "output_type": "stream",
     "text": [
      "\n",
      "What is your name?韩旭\n",
      "Which mountain would you like to climb someday?12\n",
      "Would you like to climb 12 again? (yes/no)no\n"
     ]
    }
   ],
   "source": [
    "responses = {}\n",
    "polling_active = True\n",
    "while polling_active:\n",
    "    name = input(\"\\nWhat is your name?\")\n",
    "    response = input(\"Which mountain would you like to climb someday?\")\n",
    "    responses[name] = response\n",
    "    repeat = input(\"Would you like to climb \" + response + \" again? (yes/no)\")\n",
    "    if repeat.lower() != 'yes':\n",
    "        polling_active = False"
   ]
  },
  {
   "cell_type": "code",
   "execution_count": null,
   "id": "eed6fb6f",
   "metadata": {},
   "outputs": [],
   "source": []
  },
  {
   "cell_type": "code",
   "execution_count": null,
   "id": "c052d110",
   "metadata": {},
   "outputs": [],
   "source": []
  }
 ],
 "metadata": {
  "kernelspec": {
   "display_name": "Python 3 (ipykernel)",
   "language": "python",
   "name": "python3"
  },
  "language_info": {
   "codemirror_mode": {
    "name": "ipython",
    "version": 3
   },
   "file_extension": ".py",
   "mimetype": "text/x-python",
   "name": "python",
   "nbconvert_exporter": "python",
   "pygments_lexer": "ipython3",
   "version": "3.9.13"
  }
 },
 "nbformat": 4,
 "nbformat_minor": 5
}
