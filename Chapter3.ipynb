{
 "cells": [
  {
   "cell_type": "markdown",
   "id": "0921d73a",
   "metadata": {},
   "source": [
    "# 第3章：列表简介"
   ]
  },
  {
   "cell_type": "markdown",
   "id": "923e19db",
   "metadata": {},
   "source": [
    "## 3.1 列表是什么"
   ]
  },
  {
   "cell_type": "code",
   "execution_count": 3,
   "id": "013db450",
   "metadata": {},
   "outputs": [
    {
     "name": "stdout",
     "output_type": "stream",
     "text": [
      "['trek', 'cannondale', 'redline', 'specialized']\n"
     ]
    }
   ],
   "source": [
    "\n",
    "bicycles = [\"trek\",\"cannondale\",\"redline\",\"specialized\"]\n",
    "print(bicycles)"
   ]
  },
  {
   "cell_type": "code",
   "execution_count": 4,
   "id": "d72156e0",
   "metadata": {},
   "outputs": [
    {
     "name": "stdout",
     "output_type": "stream",
     "text": [
      "Trek\n"
     ]
    }
   ],
   "source": [
    "bicycles = [\"trek\",\"cannondale\",\"redline\",\"specialized\"]\n",
    "print(bicycles[0].title())\n"
   ]
  },
  {
   "cell_type": "code",
   "execution_count": 5,
   "id": "6d37b38d",
   "metadata": {},
   "outputs": [
    {
     "name": "stdout",
     "output_type": "stream",
     "text": [
      "cannodale\n",
      "specialized\n"
     ]
    }
   ],
   "source": [
    "bicycles = [\"trek\",\"cannodale\",\"redline\",\"specialized\"]\n",
    "print(bicycles[1])\n",
    "print(bicycles[3])"
   ]
  },
  {
   "cell_type": "code",
   "execution_count": 6,
   "id": "55d3c1a8",
   "metadata": {},
   "outputs": [
    {
     "name": "stdout",
     "output_type": "stream",
     "text": [
      "specialized\n"
     ]
    }
   ],
   "source": [
    "print(bicycles[-1])"
   ]
  },
  {
   "cell_type": "code",
   "execution_count": 7,
   "id": "3240af27",
   "metadata": {},
   "outputs": [
    {
     "name": "stdout",
     "output_type": "stream",
     "text": [
      "My first bicycle was a Trek.\n"
     ]
    }
   ],
   "source": [
    "bicycles = [\"trek\",\"cannondale\",\"redline\",\"specialized\"]\n",
    "message = \"My first bicycle was a \"+ bicycles[0].title()+\".\"\n",
    "print(message)"
   ]
  },
  {
   "cell_type": "code",
   "execution_count": 8,
   "id": "4199f3bb",
   "metadata": {},
   "outputs": [],
   "source": [
    "#习题3-1"
   ]
  },
  {
   "cell_type": "code",
   "execution_count": 10,
   "id": "a019b543",
   "metadata": {},
   "outputs": [
    {
     "name": "stdout",
     "output_type": "stream",
     "text": [
      "xiao ming\n",
      "xiao hong\n",
      "xiao gang\n"
     ]
    }
   ],
   "source": [
    "names = [\"xiao ming\",\"xiao hong\",\"xiao gang\"]\n",
    "print(names[0])\n",
    "print(names[1])\n",
    "print(names[2])"
   ]
  },
  {
   "cell_type": "markdown",
   "id": "81f79040",
   "metadata": {},
   "source": [
    "### 3.1 习题"
   ]
  },
  {
   "cell_type": "code",
   "execution_count": 11,
   "id": "55fd664b",
   "metadata": {},
   "outputs": [],
   "source": [
    "# 习题3-2"
   ]
  },
  {
   "cell_type": "code",
   "execution_count": 15,
   "id": "90ae2094",
   "metadata": {},
   "outputs": [
    {
     "name": "stdout",
     "output_type": "stream",
     "text": [
      "Hi xiao ming！\n",
      "Hi xiao hong！\n",
      "Hi xiao gang！\n"
     ]
    }
   ],
   "source": [
    "print(\"Hi\"+\" \"+names[0]+\"！\")\n",
    "print(\"Hi\"+\" \"+names[1]+\"！\")\n",
    "print(\"Hi\"+\" \"+names[2]+\"！\")"
   ]
  },
  {
   "cell_type": "code",
   "execution_count": null,
   "id": "23d49e7f",
   "metadata": {},
   "outputs": [],
   "source": [
    "#习题3-3"
   ]
  },
  {
   "cell_type": "code",
   "execution_count": 18,
   "id": "8af06d83",
   "metadata": {},
   "outputs": [
    {
     "name": "stdout",
     "output_type": "stream",
     "text": [
      "I would like to own a train\n",
      "I would like to own a bike\n",
      "I would like to own a plane\n"
     ]
    }
   ],
   "source": [
    "k = [\"train\",\"bike\",\"plane\"]\n",
    "print(\"I would like to own a\"+\" \"+k[0])\n",
    "print(\"I would like to own a\"+\" \"+k[1])\n",
    "print(\"I would like to own a\"+\" \"+k[2])"
   ]
  },
  {
   "cell_type": "markdown",
   "id": "7a3dd724",
   "metadata": {},
   "source": [
    "## 3.2 修改，添加和删除元素"
   ]
  },
  {
   "cell_type": "code",
   "execution_count": 20,
   "id": "6224f37f",
   "metadata": {},
   "outputs": [
    {
     "name": "stdout",
     "output_type": "stream",
     "text": [
      "['abc', 'def', 'rpg']\n",
      "['cdf', 'def', 'rpg']\n"
     ]
    }
   ],
   "source": [
    "k = [\"abc\",\"def\",\"rpg\"]\n",
    "print(k)\n",
    "k[0]= \"cdf\"\n",
    "print(k)"
   ]
  },
  {
   "cell_type": "code",
   "execution_count": 21,
   "id": "1978958f",
   "metadata": {},
   "outputs": [
    {
     "name": "stdout",
     "output_type": "stream",
     "text": [
      "['cdf', 'def', 'rpg', 'wer']\n"
     ]
    }
   ],
   "source": [
    "k.append(\"wer\")\n",
    "print(k)"
   ]
  },
  {
   "cell_type": "code",
   "execution_count": 22,
   "id": "f2c27035",
   "metadata": {},
   "outputs": [
    {
     "name": "stdout",
     "output_type": "stream",
     "text": [
      "['a', 'b', 'c']\n"
     ]
    }
   ],
   "source": [
    "k = []\n",
    "k.append(\"a\")\n",
    "k.append(\"b\")\n",
    "k.append(\"c\")\n",
    "print(k)\n"
   ]
  },
  {
   "cell_type": "code",
   "execution_count": 23,
   "id": "a179b154",
   "metadata": {},
   "outputs": [
    {
     "name": "stdout",
     "output_type": "stream",
     "text": [
      "['a', 'b', 'c']\n",
      "['b', 'c']\n"
     ]
    }
   ],
   "source": [
    "k = [\"a\",\"b\",\"c\"]\n",
    "print(k)\n",
    "del k[0]\n",
    "print(k) "
   ]
  },
  {
   "cell_type": "code",
   "execution_count": 27,
   "id": "20b3f9fd",
   "metadata": {},
   "outputs": [
    {
     "name": "stdout",
     "output_type": "stream",
     "text": [
      "['a', 'b', 'c']\n",
      "['a', 'b']\n",
      "c\n"
     ]
    }
   ],
   "source": [
    "k = [\"a\",\"b\",\"c\"]\n",
    "print(k)\n",
    "k_a = k.pop()\n",
    "print(k)\n",
    "print(k_a)"
   ]
  },
  {
   "cell_type": "code",
   "execution_count": 29,
   "id": "0b20321e",
   "metadata": {},
   "outputs": [
    {
     "name": "stdout",
     "output_type": "stream",
     "text": [
      "\n",
      "The first is b.\n"
     ]
    }
   ],
   "source": [
    "k_b = k.pop(0)\n",
    "print()\n",
    "print(\"The first is\"+\" \"+k_b + \".\")"
   ]
  },
  {
   "cell_type": "code",
   "execution_count": 32,
   "id": "0ce762a2",
   "metadata": {},
   "outputs": [
    {
     "name": "stdout",
     "output_type": "stream",
     "text": [
      "['a', 'c']\n"
     ]
    }
   ],
   "source": [
    "k = [\"a\",\"b\",\"c\"]\n",
    "k.remove(\"b\")\n",
    "print(k)"
   ]
  },
  {
   "cell_type": "markdown",
   "id": "54a4311b",
   "metadata": {},
   "source": [
    "### 3.2 习题"
   ]
  },
  {
   "cell_type": "code",
   "execution_count": 33,
   "id": "31b3d9f1",
   "metadata": {},
   "outputs": [],
   "source": [
    "# 习题3-4"
   ]
  },
  {
   "cell_type": "code",
   "execution_count": 34,
   "id": "bec74249",
   "metadata": {},
   "outputs": [
    {
     "name": "stdout",
     "output_type": "stream",
     "text": [
      "xiao ming,have dinner with me.\n",
      "xiao hong,have dinner with me.\n",
      "xiao gang,have dinner with me.\n"
     ]
    }
   ],
   "source": [
    "k = [\"xiao ming\",\"xiao hong\",\"xiao gang\"]\n",
    "print(k[0]+\",\"+\"have dinner with me\"\".\" )\n",
    "print(k[1]+\",\"+\"have dinner with me\"\".\")\n",
    "print(k[2]+\",\"+\"have dinner with me\"\".\")"
   ]
  },
  {
   "cell_type": "code",
   "execution_count": 35,
   "id": "9c61f6da",
   "metadata": {},
   "outputs": [],
   "source": [
    "#习题 3-5"
   ]
  },
  {
   "cell_type": "code",
   "execution_count": 38,
   "id": "bc25db2a",
   "metadata": {},
   "outputs": [
    {
     "name": "stdout",
     "output_type": "stream",
     "text": [
      "xiao hei  cant go.\n",
      "['xiao ming', 'xiao hong']\n",
      "['xiao ming', 'xiao hong', 'xiao hei']\n"
     ]
    }
   ],
   "source": [
    "print(k[2]+\" \"+\" cant go.\")\n",
    "k.pop(2)\n",
    "print(k)\n",
    "k.append(\"xiao hei\")\n",
    "print(k)"
   ]
  },
  {
   "cell_type": "code",
   "execution_count": 45,
   "id": "32359ca0",
   "metadata": {},
   "outputs": [],
   "source": [
    "# 习题3-6"
   ]
  },
  {
   "cell_type": "code",
   "execution_count": 65,
   "id": "85fac6c0",
   "metadata": {
    "scrolled": false
   },
   "outputs": [
    {
     "name": "stdout",
     "output_type": "stream",
     "text": [
      "['xiao bai', 'xiao ming', 'xiao gou', 'xiao hong', 'xiao gang', 'xiao long']\n"
     ]
    }
   ],
   "source": [
    "k = [\"xiao ming\",\"xiao hong\",\"xiao gang\"]\n",
    "k.insert(0,\"xiao bai\")\n",
    "k.insert(2,\"xiao gou\")\n",
    "k.append(\"xiao long\")\n",
    "print(k)"
   ]
  },
  {
   "cell_type": "code",
   "execution_count": null,
   "id": "36ece67f",
   "metadata": {},
   "outputs": [],
   "source": [
    "# 习题3-7"
   ]
  },
  {
   "cell_type": "code",
   "execution_count": 76,
   "id": "284ac2f4",
   "metadata": {},
   "outputs": [
    {
     "name": "stdout",
     "output_type": "stream",
     "text": [
      "['xiao ming', 'xiao hong', 'xiao gang']\n",
      "I can only invite two of you\n",
      "['xiao ming', 'xiao hong']\n",
      "['xiao hong']\n",
      "[]\n"
     ]
    }
   ],
   "source": [
    "k = [\"xiao ming\",\"xiao hong\",\"xiao gang\"]\n",
    "print(k)\n",
    "print(\"I can only invite two of you\")\n",
    "k.pop()\n",
    "print(k)\n",
    "del k[0]\n",
    "print(k)\n",
    "del k[0]\n",
    "print(k)"
   ]
  },
  {
   "cell_type": "markdown",
   "id": "4d832499",
   "metadata": {},
   "source": [
    "## 3.3 组织列表"
   ]
  },
  {
   "cell_type": "code",
   "execution_count": 71,
   "id": "d20e18fe",
   "metadata": {},
   "outputs": [
    {
     "name": "stdout",
     "output_type": "stream",
     "text": [
      "['audi', 'bmw', 'subaru', 'toyta']\n"
     ]
    }
   ],
   "source": [
    "cars = [\"bmw\",\"audi\",\"toyta\",\"subaru\"]\n",
    "cars.sort()\n",
    "print(cars)"
   ]
  },
  {
   "cell_type": "code",
   "execution_count": 47,
   "id": "61bf7295",
   "metadata": {},
   "outputs": [
    {
     "name": "stdout",
     "output_type": "stream",
     "text": [
      "['toyta', 'subaru', 'bmw', 'audi']\n"
     ]
    }
   ],
   "source": [
    "cars = [\"bmw\",\"audi\",\"toyta\",\"subaru\"]\n",
    "cars.sort(reverse = True)\n",
    "print(cars)"
   ]
  },
  {
   "cell_type": "code",
   "execution_count": 50,
   "id": "56671fa6",
   "metadata": {},
   "outputs": [
    {
     "name": "stdout",
     "output_type": "stream",
     "text": [
      "['bmw', 'audi', 'toyta', 'subaru']\n",
      "['audi', 'bmw', 'subaru', 'toyta']\n",
      "['bmw', 'audi', 'toyta', 'subaru']\n"
     ]
    }
   ],
   "source": [
    "cars =  [\"bmw\",\"audi\",\"toyta\",\"subaru\"]\n",
    "print(cars)\n",
    "print(sorted(cars))\n",
    "print(cars)"
   ]
  },
  {
   "cell_type": "code",
   "execution_count": 53,
   "id": "58554dbd",
   "metadata": {},
   "outputs": [
    {
     "name": "stdout",
     "output_type": "stream",
     "text": [
      "['bmw', 'audi', 'toyta', 'subaru']\n",
      "['subaru', 'toyta', 'audi', 'bmw']\n"
     ]
    }
   ],
   "source": [
    "cars =  [\"bmw\",\"audi\",\"toyta\",\"subaru\"]\n",
    "print(cars)\n",
    "cars.reverse()\n",
    "print(cars)"
   ]
  },
  {
   "cell_type": "code",
   "execution_count": 54,
   "id": "bb9d659e",
   "metadata": {},
   "outputs": [
    {
     "data": {
      "text/plain": [
       "4"
      ]
     },
     "execution_count": 54,
     "metadata": {},
     "output_type": "execute_result"
    }
   ],
   "source": [
    "cars = [\"bmw\",\"audi\",\"toyota\",\"subaru\"]\n",
    "len(cars)"
   ]
  },
  {
   "cell_type": "markdown",
   "id": "6b69e804",
   "metadata": {},
   "source": [
    "### 3.3 习题"
   ]
  },
  {
   "cell_type": "code",
   "execution_count": null,
   "id": "de92fc81",
   "metadata": {},
   "outputs": [],
   "source": [
    "#太多了暂时不写"
   ]
  },
  {
   "cell_type": "markdown",
   "id": "ef7523f8",
   "metadata": {},
   "source": [
    "## 3.4 使用列表时避免索引错误"
   ]
  },
  {
   "cell_type": "code",
   "execution_count": 57,
   "id": "1b51dfa2",
   "metadata": {},
   "outputs": [
    {
     "name": "stdout",
     "output_type": "stream",
     "text": [
      "suzuki\n"
     ]
    }
   ],
   "source": [
    "motorcycles = ['honda','yamaha','suzuki']\n",
    "print(motorcycles[2])"
   ]
  },
  {
   "cell_type": "markdown",
   "id": "1ec994a6",
   "metadata": {},
   "source": [
    "### 3.4习题"
   ]
  },
  {
   "cell_type": "code",
   "execution_count": 58,
   "id": "1217e06d",
   "metadata": {},
   "outputs": [
    {
     "ename": "IndexError",
     "evalue": "list index out of range",
     "output_type": "error",
     "traceback": [
      "\u001b[1;31m---------------------------------------------------------------------------\u001b[0m",
      "\u001b[1;31mIndexError\u001b[0m                                Traceback (most recent call last)",
      "\u001b[1;32m~\\AppData\\Local\\Temp\\ipykernel_14528\\3847306924.py\u001b[0m in \u001b[0;36m<module>\u001b[1;34m\u001b[0m\n\u001b[0;32m      1\u001b[0m \u001b[0mmotorcycles\u001b[0m \u001b[1;33m=\u001b[0m \u001b[1;33m[\u001b[0m\u001b[1;34m'honda'\u001b[0m\u001b[1;33m,\u001b[0m\u001b[1;34m'yamaha'\u001b[0m\u001b[1;33m,\u001b[0m\u001b[1;34m'suzuki'\u001b[0m\u001b[1;33m]\u001b[0m\u001b[1;33m\u001b[0m\u001b[1;33m\u001b[0m\u001b[0m\n\u001b[1;32m----> 2\u001b[1;33m \u001b[0mprint\u001b[0m\u001b[1;33m(\u001b[0m\u001b[0mmotorcycles\u001b[0m\u001b[1;33m[\u001b[0m\u001b[1;36m3\u001b[0m\u001b[1;33m]\u001b[0m\u001b[1;33m)\u001b[0m\u001b[1;33m\u001b[0m\u001b[1;33m\u001b[0m\u001b[0m\n\u001b[0m",
      "\u001b[1;31mIndexError\u001b[0m: list index out of range"
     ]
    }
   ],
   "source": [
    "motorcycles = ['honda','yamaha','suzuki']\n",
    "print(motorcycles[3])"
   ]
  },
  {
   "cell_type": "code",
   "execution_count": null,
   "id": "fddf55c7",
   "metadata": {},
   "outputs": [],
   "source": []
  }
 ],
 "metadata": {
  "kernelspec": {
   "display_name": "Python 3 (ipykernel)",
   "language": "python",
   "name": "python3"
  },
  "language_info": {
   "codemirror_mode": {
    "name": "ipython",
    "version": 3
   },
   "file_extension": ".py",
   "mimetype": "text/x-python",
   "name": "python",
   "nbconvert_exporter": "python",
   "pygments_lexer": "ipython3",
   "version": "3.9.13"
  }
 },
 "nbformat": 4,
 "nbformat_minor": 5
}
