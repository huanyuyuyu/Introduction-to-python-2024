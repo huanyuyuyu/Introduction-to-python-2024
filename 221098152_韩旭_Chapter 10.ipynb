{
 "cells": [
  {
   "cell_type": "markdown",
   "id": "708ae600",
   "metadata": {},
   "source": [
    "# 10.1 从文件中读取数据"
   ]
  },
  {
   "cell_type": "markdown",
   "id": "9ef7a390",
   "metadata": {},
   "source": [
    "## 10.1.1 读取整个文件"
   ]
  },
  {
   "cell_type": "code",
   "execution_count": 1,
   "id": "e6513b5a",
   "metadata": {},
   "outputs": [
    {
     "name": "stdout",
     "output_type": "stream",
     "text": [
      "3.1415926535 \n",
      " 8979323846 \n",
      " 2643383279\n"
     ]
    }
   ],
   "source": [
    "with open(\"pi_digits.txt\")as file_object:\n",
    "    contents = file_object.read()\n",
    "    print(contents)"
   ]
  },
  {
   "cell_type": "code",
   "execution_count": 5,
   "id": "2527d2e3",
   "metadata": {},
   "outputs": [
    {
     "name": "stdout",
     "output_type": "stream",
     "text": [
      "3.1415926535 \n",
      " 8979323846 \n",
      " 2643383279\n"
     ]
    }
   ],
   "source": [
    "with open(\"pi_digits.txt\") as file_object:\n",
    "    contents = file_object.read()\n",
    "    print(contents.rstrip())"
   ]
  },
  {
   "cell_type": "markdown",
   "id": "ee929b0c",
   "metadata": {},
   "source": [
    "## 10.1.3 逐行读取"
   ]
  },
  {
   "cell_type": "code",
   "execution_count": 2,
   "id": "86e04397",
   "metadata": {},
   "outputs": [
    {
     "name": "stdout",
     "output_type": "stream",
     "text": [
      "3.1415926535 \n",
      "\n",
      " 8979323846 \n",
      "\n",
      " 2643383279\n"
     ]
    }
   ],
   "source": [
    "filename = \"pi_digits.txt\"\n",
    "with open(filename)as file_object:\n",
    "    for line in file_object:\n",
    "        print(line)"
   ]
  },
  {
   "cell_type": "code",
   "execution_count": 3,
   "id": "c192a29c",
   "metadata": {},
   "outputs": [
    {
     "name": "stdout",
     "output_type": "stream",
     "text": [
      "3.1415926535\n",
      " 8979323846\n",
      " 2643383279\n"
     ]
    }
   ],
   "source": [
    "filename = \"pi_digits.txt\"\n",
    "with open(filename) as file_object:\n",
    "    for line in file_object:\n",
    "        print(line.rstrip())\n",
    "        #消除一个换行符(一共有两个)，将空格消除"
   ]
  },
  {
   "cell_type": "markdown",
   "id": "2c39d881",
   "metadata": {},
   "source": [
    "## 10.1.4 创建一个包含文件各行内容的列表"
   ]
  },
  {
   "cell_type": "code",
   "execution_count": 6,
   "id": "292a2535",
   "metadata": {},
   "outputs": [
    {
     "name": "stdout",
     "output_type": "stream",
     "text": [
      "3.1415926535\n",
      " 8979323846\n",
      " 2643383279\n"
     ]
    }
   ],
   "source": [
    "filename = \"pi_digits.txt\"\n",
    "with open(filename)as file_object:\n",
    "    lines = file_object.readlines()\n",
    "    #读取文件的每一行，并存储在一个列表中\n",
    "\n",
    "for line in lines:\n",
    "    print(line.rstrip())"
   ]
  },
  {
   "cell_type": "markdown",
   "id": "ccdad467",
   "metadata": {},
   "source": [
    "## 10.1.5 使用文件的内容"
   ]
  },
  {
   "cell_type": "code",
   "execution_count": 9,
   "id": "ad174bf1",
   "metadata": {},
   "outputs": [
    {
     "name": "stdout",
     "output_type": "stream",
     "text": [
      "3.141592653589793238462643383279\n",
      "32\n"
     ]
    }
   ],
   "source": [
    "filename = \"pi_digits.txt\"\n",
    "with open(filename)as file_object:\n",
    "    lines = file_object.readlines()\n",
    "    #读取文件，并存储在一个列表中国\n",
    "\n",
    "pi_string = \"\"\n",
    "for line in lines:\n",
    "    pi_string += line.strip()\n",
    "    #创建变量，存储字符串\n",
    "    \n",
    "print(pi_string)\n",
    "print(len(pi_string))"
   ]
  },
  {
   "cell_type": "markdown",
   "id": "8712ff25",
   "metadata": {},
   "source": [
    "## 10.1.6 包含一百万位的大型文件"
   ]
  },
  {
   "cell_type": "code",
   "execution_count": 10,
   "id": "c2e4d4be",
   "metadata": {},
   "outputs": [
    {
     "name": "stdout",
     "output_type": "stream",
     "text": [
      "3.141592653589793238462643383279...\n",
      "32\n"
     ]
    }
   ],
   "source": [
    "filename = \"pi_digits.txt\"\n",
    "with open(filename)as file_object:\n",
    "    lines = file_object.readlines()\n",
    "    #读取文件，并存储在一个列表中国\n",
    "    \n",
    "pi_string = \"\"\n",
    "for line in lines:\n",
    "    pi_string += line.strip()\n",
    "    #创建变量，存储字符串\n",
    "    \n",
    "print(pi_string[:52]+\"...\")\n",
    "#\n",
    "print(len(pi_string))"
   ]
  },
  {
   "cell_type": "code",
   "execution_count": null,
   "id": "a472ddd4",
   "metadata": {},
   "outputs": [],
   "source": [
    "## 10.1.7 圆周率值中包含你的生日吗"
   ]
  },
  {
   "cell_type": "code",
   "execution_count": 11,
   "id": "3c44e890",
   "metadata": {},
   "outputs": [
    {
     "name": "stdout",
     "output_type": "stream",
     "text": [
      "Enter your birthday, in the form mmddyy: 120372\n",
      "Your birthday does not appear in the first million digits of pi.\n"
     ]
    }
   ],
   "source": [
    "filename = 'pi_digits.txt' \n",
    "with open(filename) as file_object: \n",
    "    lines = file_object.readlines()\n",
    "\n",
    "pi_string = '' \n",
    "for line in lines: \n",
    "    pi_string += line.rstrip() \n",
    "\n",
    "birthday = input(\"Enter your birthday, in the form mmddyy: \") \n",
    "if birthday in pi_string: \n",
    "    #Python的in关键字可以用来判断一个字符串（子串）是否包含在另一个字符串中\n",
    "    print(\"Your birthday appears in the first million digits of pi!\") \n",
    "else: \n",
    "    print(\"Your birthday does not appear in the first million digits of pi.\") \n"
   ]
  },
  {
   "cell_type": "markdown",
   "id": "eddebbe2",
   "metadata": {},
   "source": [
    "## 10.1 习题"
   ]
  },
  {
   "cell_type": "code",
   "execution_count": 12,
   "id": "28a4b734",
   "metadata": {},
   "outputs": [],
   "source": [
    "# 10-1"
   ]
  },
  {
   "cell_type": "code",
   "execution_count": 20,
   "id": "07132af2",
   "metadata": {},
   "outputs": [
    {
     "name": "stdout",
     "output_type": "stream",
     "text": [
      "I learn Py.\n",
      "input\n",
      "print\n",
      "I learn Py.\n",
      "input\n",
      "print\n",
      "I learn Py.\n",
      "input\n",
      "print\n"
     ]
    }
   ],
   "source": [
    "filename = \"learning_python.txt\"\n",
    "with open(filename)as file:\n",
    "    content = file.read()\n",
    "print(content)\n",
    "\n",
    "with open(filename,\"r\")as file:\n",
    "    for line in file:\n",
    "        print(line.strip())\n",
    "\n",
    "lines_list = []\n",
    "with open(filename,\"r\")as file:\n",
    "    lines_list = file.readlines()\n",
    "for line in lines_list:\n",
    "    print(line.strip())\n",
    "\n"
   ]
  },
  {
   "cell_type": "markdown",
   "id": "af633b3b",
   "metadata": {},
   "source": [
    "# 10.2 写入空文件"
   ]
  },
  {
   "cell_type": "markdown",
   "id": "fcf61889",
   "metadata": {},
   "source": [
    "## 10.2.1 写入空文件"
   ]
  },
  {
   "cell_type": "code",
   "execution_count": 22,
   "id": "c41eda73",
   "metadata": {},
   "outputs": [],
   "source": [
    "filename = \"programing.txt\"\n",
    "with open(filename,\"w\")as file_object:\n",
    "    file_object.write(\"I love programming\")"
   ]
  },
  {
   "cell_type": "markdown",
   "id": "e1a51ff9",
   "metadata": {},
   "source": [
    "## 10.2.2 写入多行"
   ]
  },
  {
   "cell_type": "code",
   "execution_count": 23,
   "id": "bd2b6df0",
   "metadata": {},
   "outputs": [],
   "source": [
    "filename = \"programming.txt\"\n",
    "with open(filename,\"w\")as file_object:\n",
    "    file_object.write(\"I love programming.\") \n",
    "    file_object.write(\"I love creating new games.\") "
   ]
  },
  {
   "cell_type": "markdown",
   "id": "21841ca1",
   "metadata": {},
   "source": [
    "## 10.2.3 附加到文件"
   ]
  },
  {
   "cell_type": "code",
   "execution_count": 24,
   "id": "1f844b85",
   "metadata": {},
   "outputs": [],
   "source": [
    "filename = \"programming.txt\"\n",
    "with open(\"filename\",\"a\")as file_object:\n",
    "    file_object.write(\"I also love finding meaning in large datasets.\\n\") \n",
    "    file_object.write(\"I love creating apps that can run in a browser.\\n\")"
   ]
  },
  {
   "cell_type": "markdown",
   "id": "7d04bb28",
   "metadata": {},
   "source": [
    "## 10.2 习题"
   ]
  },
  {
   "cell_type": "code",
   "execution_count": null,
   "id": "2b7304ad",
   "metadata": {},
   "outputs": [],
   "source": []
  },
  {
   "cell_type": "code",
   "execution_count": null,
   "id": "9c540a81",
   "metadata": {},
   "outputs": [],
   "source": []
  },
  {
   "cell_type": "markdown",
   "id": "095857ac",
   "metadata": {},
   "source": [
    "## 10.3 异常"
   ]
  },
  {
   "cell_type": "markdown",
   "id": "7807fb50",
   "metadata": {},
   "source": [
    "### 10.3.1处理ZeroDivisionError异常"
   ]
  },
  {
   "cell_type": "code",
   "execution_count": null,
   "id": "977e423e",
   "metadata": {},
   "outputs": [],
   "source": []
  },
  {
   "cell_type": "markdown",
   "id": "023fb29f",
   "metadata": {},
   "source": [
    "### 10.3.3 使用异常哦避免崩溃"
   ]
  },
  {
   "cell_type": "code",
   "execution_count": null,
   "id": "80e238c6",
   "metadata": {},
   "outputs": [],
   "source": []
  },
  {
   "cell_type": "markdown",
   "id": "356b63de",
   "metadata": {},
   "source": [
    "### 10.3.4 else代码块"
   ]
  },
  {
   "cell_type": "code",
   "execution_count": 25,
   "id": "86a0594f",
   "metadata": {
    "scrolled": true
   },
   "outputs": [
    {
     "ename": "SyntaxError",
     "evalue": "invalid non-printable character U+F075 (867244942.py, line 8)",
     "output_type": "error",
     "traceback": [
      "\u001b[1;36m  File \u001b[1;32m\"C:\\Users\\HP\\AppData\\Local\\Temp\\ipykernel_20260\\867244942.py\"\u001b[1;36m, line \u001b[1;32m8\u001b[0m\n\u001b[1;33m     try:\u001b[0m\n\u001b[1;37m    ^\u001b[0m\n\u001b[1;31mSyntaxError\u001b[0m\u001b[1;31m:\u001b[0m invalid non-printable character U+F075\n"
     ]
    }
   ],
   "source": [
    "print(\"Give me two numbers, and I'll divide them.\") \n",
    "print(\"Enter 'q' to quit.\") \n",
    "while True: \n",
    "    first_number = input(\"\\nFirst number: \") \n",
    "    if first_number == 'q': \n",
    "        break \n",
    "    second_number = input(\"Second number: \") \n",
    " try: \n",
    "        answer = int(first_number) / int(second_number) \n",
    " except ZeroDivisionError: \n",
    "        print(\"You can't divide by 0!\") \n",
    " else: \n",
    "        print(answer)"
   ]
  },
  {
   "cell_type": "markdown",
   "id": "69ab67c6",
   "metadata": {},
   "source": [
    "### 10.3.5 处理 FileNotFoundError 异常"
   ]
  },
  {
   "cell_type": "code",
   "execution_count": null,
   "id": "e8b12a3a",
   "metadata": {},
   "outputs": [],
   "source": [
    "filename = 'alice.txt' \n",
    "with open(filename) as f_obj: \n",
    "    contents = f_obj.read() "
   ]
  },
  {
   "cell_type": "code",
   "execution_count": null,
   "id": "ba780b1c",
   "metadata": {},
   "outputs": [],
   "source": []
  },
  {
   "cell_type": "markdown",
   "id": "618d5fa3",
   "metadata": {},
   "source": [
    "### 10.3.6 分析文本"
   ]
  },
  {
   "cell_type": "code",
   "execution_count": 26,
   "id": "69554b8d",
   "metadata": {},
   "outputs": [
    {
     "name": "stdout",
     "output_type": "stream",
     "text": [
      "Sorry, the file alice.txt does not exist.\n"
     ]
    }
   ],
   "source": [
    "filename = 'alice.txt' \n",
    "try: \n",
    "    with open(filename) as f_obj: \n",
    "        contents = f_obj.read() \n",
    "except FileNotFoundError: \n",
    "    msg = \"Sorry, the file \" + filename + \" does not exist.\" \n",
    "    print(msg) \n",
    "else: \n",
    " # 计算文件大致包含多少个单词\n",
    "    words = contents.split() \n",
    "    num_words = len(words) \n",
    "    print(\"The file \" + filename + \" has about \" + str(num_words) + \" words.\") "
   ]
  },
  {
   "cell_type": "code",
   "execution_count": null,
   "id": "2551d4e6",
   "metadata": {},
   "outputs": [],
   "source": []
  },
  {
   "cell_type": "markdown",
   "id": "ecb21a75",
   "metadata": {},
   "source": [
    "### 10.3.7 使用多个文件"
   ]
  },
  {
   "cell_type": "code",
   "execution_count": 28,
   "id": "6fec6074",
   "metadata": {
    "scrolled": true
   },
   "outputs": [
    {
     "ename": "IndentationError",
     "evalue": "unindent does not match any outer indentation level (<tokenize>, line 9)",
     "output_type": "error",
     "traceback": [
      "\u001b[1;36m  File \u001b[1;32m\"<tokenize>\"\u001b[1;36m, line \u001b[1;32m9\u001b[0m\n\u001b[1;33m    else:\u001b[0m\n\u001b[1;37m    ^\u001b[0m\n\u001b[1;31mIndentationError\u001b[0m\u001b[1;31m:\u001b[0m unindent does not match any outer indentation level\n"
     ]
    }
   ],
   "source": [
    "def count_words(filename): \n",
    " \"\"\"计算一个文件大致包含多少个单词\"\"\" \n",
    "    try: \n",
    "        with open(filename) as f_obj: \n",
    "            contents = f_obj.read() \n",
    "    except FileNotFoundError: \n",
    "        msg = \"Sorry, the file \" + filename + \" does not exist.\" \n",
    "        print(msg) \n",
    " else: \n",
    " # 计算文件大致包含多少个单词\n",
    "    words = contents.split() \n",
    "    num_words = len(words) \n",
    "    print(\"The file \" + filename + \" has about \" + str(num_words) + \n",
    " \" words.\") \n",
    "filename = 'alice.txt' \n",
    "count_words(filename) "
   ]
  },
  {
   "cell_type": "code",
   "execution_count": null,
   "id": "e213dabe",
   "metadata": {},
   "outputs": [],
   "source": []
  },
  {
   "cell_type": "markdown",
   "id": "871dff2a",
   "metadata": {},
   "source": [
    "### 10.3.8 失败时一声不吭"
   ]
  },
  {
   "cell_type": "code",
   "execution_count": null,
   "id": "cfc4d8fd",
   "metadata": {},
   "outputs": [],
   "source": [
    "def count_words(filename): \n",
    " \"\"\"计算一个文件大致包含多少个单词\"\"\" \n",
    " try: \n",
    "    --snip-- \n",
    " except FileNotFoundError: \n",
    " pass \n",
    " else: \n",
    " --snip-- \n",
    "filenames = ['alice.txt', 'siddhartha.txt', 'moby_dick.txt', 'little_women.txt'] \n",
    "for filename in filenames: \n",
    " count_words(filename) "
   ]
  },
  {
   "cell_type": "code",
   "execution_count": null,
   "id": "5959f749",
   "metadata": {},
   "outputs": [],
   "source": []
  },
  {
   "cell_type": "markdown",
   "id": "fb20bf1f",
   "metadata": {},
   "source": [
    "### 10.3 习题"
   ]
  },
  {
   "cell_type": "code",
   "execution_count": null,
   "id": "c89b7114",
   "metadata": {},
   "outputs": [],
   "source": []
  },
  {
   "cell_type": "markdown",
   "id": "290068e9",
   "metadata": {},
   "source": [
    "## 10.4存储数据"
   ]
  },
  {
   "cell_type": "code",
   "execution_count": null,
   "id": "527eec5c",
   "metadata": {},
   "outputs": [],
   "source": []
  },
  {
   "cell_type": "code",
   "execution_count": null,
   "id": "647c9855",
   "metadata": {},
   "outputs": [],
   "source": []
  },
  {
   "cell_type": "markdown",
   "id": "0456ef09",
   "metadata": {},
   "source": [
    "### 10.4.1使用json.dump() 和json.load()"
   ]
  },
  {
   "cell_type": "code",
   "execution_count": 29,
   "id": "48a3be6f",
   "metadata": {},
   "outputs": [
    {
     "ename": "FileNotFoundError",
     "evalue": "[Errno 2] No such file or directory: 'numbers.json'",
     "output_type": "error",
     "traceback": [
      "\u001b[1;31m---------------------------------------------------------------------------\u001b[0m",
      "\u001b[1;31mFileNotFoundError\u001b[0m                         Traceback (most recent call last)",
      "\u001b[1;32m~\\AppData\\Local\\Temp\\ipykernel_20260\\1390872627.py\u001b[0m in \u001b[0;36m<module>\u001b[1;34m\u001b[0m\n\u001b[0;32m      2\u001b[0m \u001b[0mnumbers\u001b[0m \u001b[1;33m=\u001b[0m \u001b[1;33m[\u001b[0m\u001b[1;36m2\u001b[0m\u001b[1;33m,\u001b[0m\u001b[1;36m3\u001b[0m\u001b[1;33m,\u001b[0m\u001b[1;36m5\u001b[0m\u001b[1;33m,\u001b[0m\u001b[1;36m7\u001b[0m\u001b[1;33m,\u001b[0m\u001b[1;36m11\u001b[0m\u001b[1;33m,\u001b[0m\u001b[1;36m13\u001b[0m\u001b[1;33m]\u001b[0m\u001b[1;33m\u001b[0m\u001b[1;33m\u001b[0m\u001b[0m\n\u001b[0;32m      3\u001b[0m \u001b[0mfilename\u001b[0m \u001b[1;33m=\u001b[0m \u001b[1;34m\"numbers.json\"\u001b[0m\u001b[1;33m\u001b[0m\u001b[1;33m\u001b[0m\u001b[0m\n\u001b[1;32m----> 4\u001b[1;33m \u001b[1;32mwith\u001b[0m \u001b[0mopen\u001b[0m\u001b[1;33m(\u001b[0m\u001b[0mfilename\u001b[0m\u001b[1;33m)\u001b[0m\u001b[1;32mas\u001b[0m \u001b[0mf_obj\u001b[0m\u001b[1;33m:\u001b[0m\u001b[1;33m\u001b[0m\u001b[1;33m\u001b[0m\u001b[0m\n\u001b[0m\u001b[0;32m      5\u001b[0m     \u001b[0mnumbers\u001b[0m \u001b[1;33m=\u001b[0m \u001b[0mjson\u001b[0m\u001b[1;33m.\u001b[0m\u001b[0mload\u001b[0m\u001b[1;33m(\u001b[0m\u001b[0mf_obj\u001b[0m\u001b[1;33m)\u001b[0m\u001b[1;33m\u001b[0m\u001b[1;33m\u001b[0m\u001b[0m\n\u001b[0;32m      6\u001b[0m \u001b[0mprint\u001b[0m\u001b[1;33m(\u001b[0m\u001b[0mnumbers\u001b[0m\u001b[1;33m)\u001b[0m\u001b[1;33m\u001b[0m\u001b[1;33m\u001b[0m\u001b[0m\n",
      "\u001b[1;31mFileNotFoundError\u001b[0m: [Errno 2] No such file or directory: 'numbers.json'"
     ]
    }
   ],
   "source": [
    "import json\n",
    "numbers = [2,3,5,7,11,13]\n",
    "filename = \"numbers.json\"\n",
    "with open(filename)as f_obj:\n",
    "    numbers = json.load(f_obj)\n",
    "print(numbers)"
   ]
  },
  {
   "cell_type": "markdown",
   "id": "b05e3320",
   "metadata": {},
   "source": [
    "### 10.4.2 保存和读取用户生成的数据"
   ]
  },
  {
   "cell_type": "code",
   "execution_count": 30,
   "id": "c11d7d36",
   "metadata": {},
   "outputs": [
    {
     "ename": "SyntaxError",
     "evalue": "invalid non-printable character U+F075 (2332104000.py, line 2)",
     "output_type": "error",
     "traceback": [
      "\u001b[1;36m  File \u001b[1;32m\"C:\\Users\\HP\\AppData\\Local\\Temp\\ipykernel_20260\\2332104000.py\"\u001b[1;36m, line \u001b[1;32m2\u001b[0m\n\u001b[1;33m     username = input(\"What is your name? \")\u001b[0m\n\u001b[1;37m    ^\u001b[0m\n\u001b[1;31mSyntaxError\u001b[0m\u001b[1;31m:\u001b[0m invalid non-printable character U+F075\n"
     ]
    }
   ],
   "source": [
    "import json \n",
    " username = input(\"What is your name? \") \n",
    "filename = 'username.json' \n",
    "with open(filename, 'w') as f_obj: \n",
    " json.dump(username, f_obj) \n",
    " print(\"We'll remember you when you come back, \" + username + \"!\")"
   ]
  },
  {
   "cell_type": "markdown",
   "id": "1a6de187",
   "metadata": {},
   "source": [
    "### 10.4.3 重构"
   ]
  },
  {
   "cell_type": "code",
   "execution_count": null,
   "id": "3c80345d",
   "metadata": {},
   "outputs": [],
   "source": [
    "import json \n",
    "def greet_user(): \n",
    " \"\"\"问候用户，并指出其名字\"\"\" \n",
    " filename = 'username.json' \n",
    " try:\n",
    "    with open(filename) as f_obj: \n",
    "        username = json.load(f_obj) \n",
    " except FileNotFoundError: \n",
    "     username = input(\"What is your name? \") \n",
    "     with open(filename, 'w') as f_obj: \n",
    "        json.dump(username, f_obj) \n",
    "        print(\"We'll remember you when you come back, \" + username + \"!\") \n",
    "else: \n",
    "    print(\"Welcome back, \" + username + \"!\") \n",
    "greet_user() "
   ]
  },
  {
   "cell_type": "code",
   "execution_count": null,
   "id": "a0b72cb8",
   "metadata": {},
   "outputs": [],
   "source": [
    "import json \n",
    "def get_stored_username(): \n",
    " \"\"\"如果存储了用户名，就获取它\"\"\" \n",
    " --snip-- \n",
    "def get_new_username(): \n",
    " \"\"\"提示用户输入用户名\"\"\" \n",
    " username = input(\"What is your name? \") \n",
    " filename = 'username.json' \n",
    " with open(filename, 'w') as f_obj: \n",
    " json.dump(username, f_obj) \n",
    " return username \n",
    "def greet_user(): \n",
    " \"\"\"问候用户，并指出其名字\"\"\" \n",
    " username = get_stored_username() \n",
    " if username: \n",
    " print(\"Welcome back, \" + username + \"!\") \n",
    " else: \n",
    " username = get_new_username() \n",
    " print(\"We'll remember you when you come back, \" + username + \"!\") \n",
    "greet_user()"
   ]
  },
  {
   "cell_type": "markdown",
   "id": "84115f7d",
   "metadata": {},
   "source": [
    "## 10.4 习题"
   ]
  },
  {
   "cell_type": "code",
   "execution_count": null,
   "id": "0cc5d8b4",
   "metadata": {},
   "outputs": [],
   "source": []
  }
 ],
 "metadata": {
  "kernelspec": {
   "display_name": "Python 3 (ipykernel)",
   "language": "python",
   "name": "python3"
  },
  "language_info": {
   "codemirror_mode": {
    "name": "ipython",
    "version": 3
   },
   "file_extension": ".py",
   "mimetype": "text/x-python",
   "name": "python",
   "nbconvert_exporter": "python",
   "pygments_lexer": "ipython3",
   "version": "3.9.13"
  }
 },
 "nbformat": 4,
 "nbformat_minor": 5
}
