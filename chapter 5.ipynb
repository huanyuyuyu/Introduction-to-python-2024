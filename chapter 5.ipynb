{
 "cells": [
  {
   "cell_type": "markdown",
   "id": "5536333c",
   "metadata": {},
   "source": [
    "# 第5章：if语句"
   ]
  },
  {
   "cell_type": "markdown",
   "id": "243dfecb",
   "metadata": {},
   "source": [
    "## 5.1 一个简单示例"
   ]
  },
  {
   "cell_type": "code",
   "execution_count": 4,
   "id": "c01357ef",
   "metadata": {},
   "outputs": [
    {
     "name": "stdout",
     "output_type": "stream",
     "text": [
      "Audi\n",
      "BMW\n",
      "Subaru\n",
      "Toyata\n"
     ]
    }
   ],
   "source": [
    "cars = [\"audi\",\"bmw\",\"subaru\",\"toyata\"]\n",
    "for car in cars:\n",
    "    if car == \"bmw\":\n",
    "        print(car.upper())\n",
    "    else:\n",
    "        print(car.title())\n",
    "        "
   ]
  },
  {
   "cell_type": "markdown",
   "id": "3d6d2904",
   "metadata": {},
   "source": [
    "## 5.2 条件测试"
   ]
  },
  {
   "cell_type": "markdown",
   "id": "48b09b0a",
   "metadata": {},
   "source": [
    "### 5.2.1 检查是否相等"
   ]
  },
  {
   "cell_type": "code",
   "execution_count": 6,
   "id": "c373177d",
   "metadata": {},
   "outputs": [
    {
     "data": {
      "text/plain": [
       "True"
      ]
     },
     "execution_count": 6,
     "metadata": {},
     "output_type": "execute_result"
    }
   ],
   "source": [
    "car = \"bmw\"\n",
    "car == \"bmw\""
   ]
  },
  {
   "cell_type": "code",
   "execution_count": 7,
   "id": "487a4a50",
   "metadata": {},
   "outputs": [
    {
     "data": {
      "text/plain": [
       "False"
      ]
     },
     "execution_count": 7,
     "metadata": {},
     "output_type": "execute_result"
    }
   ],
   "source": [
    "car = \"audi\"\n",
    "car == \"bmw\"\n"
   ]
  },
  {
   "cell_type": "markdown",
   "id": "8ed5b369",
   "metadata": {},
   "source": [
    "### 5.2.2 检查是否相等时不考虑大小写"
   ]
  },
  {
   "cell_type": "code",
   "execution_count": 9,
   "id": "28afbf81",
   "metadata": {},
   "outputs": [
    {
     "data": {
      "text/plain": [
       "False"
      ]
     },
     "execution_count": 9,
     "metadata": {},
     "output_type": "execute_result"
    }
   ],
   "source": [
    "car = \"Audi\"\n",
    "car == \"audi\""
   ]
  },
  {
   "cell_type": "code",
   "execution_count": 10,
   "id": "1b0e037b",
   "metadata": {},
   "outputs": [
    {
     "data": {
      "text/plain": [
       "True"
      ]
     },
     "execution_count": 10,
     "metadata": {},
     "output_type": "execute_result"
    }
   ],
   "source": [
    "car = \"Audi\"\n",
    "car.lower()==\"audi\""
   ]
  },
  {
   "cell_type": "code",
   "execution_count": 11,
   "id": "7bdbf58b",
   "metadata": {},
   "outputs": [
    {
     "data": {
      "text/plain": [
       "True"
      ]
     },
     "execution_count": 11,
     "metadata": {},
     "output_type": "execute_result"
    }
   ],
   "source": [
    "car = \"Audi\"\n",
    "car.lower() == \"audi\""
   ]
  },
  {
   "cell_type": "code",
   "execution_count": 12,
   "id": "354beefe",
   "metadata": {},
   "outputs": [
    {
     "data": {
      "text/plain": [
       "True"
      ]
     },
     "execution_count": 12,
     "metadata": {},
     "output_type": "execute_result"
    }
   ],
   "source": [
    "car = \"Audi\"\n",
    "car.lower()==\"audi\""
   ]
  },
  {
   "cell_type": "code",
   "execution_count": 13,
   "id": "852c1e73",
   "metadata": {},
   "outputs": [
    {
     "data": {
      "text/plain": [
       "'Audi'"
      ]
     },
     "execution_count": 13,
     "metadata": {},
     "output_type": "execute_result"
    }
   ],
   "source": [
    "car"
   ]
  },
  {
   "cell_type": "markdown",
   "id": "e5249c91",
   "metadata": {},
   "source": [
    "### 5.2.3 检查是否不平等"
   ]
  },
  {
   "cell_type": "code",
   "execution_count": 14,
   "id": "1ea34fd7",
   "metadata": {},
   "outputs": [
    {
     "name": "stdout",
     "output_type": "stream",
     "text": [
      "Hold the anchoivies!\n"
     ]
    }
   ],
   "source": [
    "request_topping = \"mushrooms\"\n",
    "if request_topping != \"anchvies\":\n",
    "    print(\"Hold the anchoivies!\")"
   ]
  },
  {
   "cell_type": "markdown",
   "id": "42d71496",
   "metadata": {},
   "source": [
    "### 5.2.4 比较数字"
   ]
  },
  {
   "cell_type": "code",
   "execution_count": 15,
   "id": "920e2e15",
   "metadata": {},
   "outputs": [
    {
     "data": {
      "text/plain": [
       "True"
      ]
     },
     "execution_count": 15,
     "metadata": {},
     "output_type": "execute_result"
    }
   ],
   "source": [
    "age = 18\n",
    "age == 18"
   ]
  },
  {
   "cell_type": "code",
   "execution_count": 16,
   "id": "83dfdcf1",
   "metadata": {},
   "outputs": [
    {
     "name": "stdout",
     "output_type": "stream",
     "text": [
      "That is not the correct answer. Please try again!\n"
     ]
    }
   ],
   "source": [
    "answer = 17\n",
    "if answer != 42:\n",
    "    print(\"That is not the correct answer. Please try again!\")\n",
    "    "
   ]
  },
  {
   "cell_type": "code",
   "execution_count": 17,
   "id": "3c9bacf1",
   "metadata": {},
   "outputs": [],
   "source": [
    "age = 19"
   ]
  },
  {
   "cell_type": "code",
   "execution_count": 18,
   "id": "739117f2",
   "metadata": {},
   "outputs": [
    {
     "data": {
      "text/plain": [
       "True"
      ]
     },
     "execution_count": 18,
     "metadata": {},
     "output_type": "execute_result"
    }
   ],
   "source": [
    "age < 21"
   ]
  },
  {
   "cell_type": "code",
   "execution_count": 19,
   "id": "13420bd8",
   "metadata": {},
   "outputs": [
    {
     "data": {
      "text/plain": [
       "True"
      ]
     },
     "execution_count": 19,
     "metadata": {},
     "output_type": "execute_result"
    }
   ],
   "source": [
    "age <= 21"
   ]
  },
  {
   "cell_type": "code",
   "execution_count": 20,
   "id": "6c44182e",
   "metadata": {},
   "outputs": [
    {
     "data": {
      "text/plain": [
       "False"
      ]
     },
     "execution_count": 20,
     "metadata": {},
     "output_type": "execute_result"
    }
   ],
   "source": [
    "age > 21"
   ]
  },
  {
   "cell_type": "code",
   "execution_count": 21,
   "id": "a0c483f5",
   "metadata": {},
   "outputs": [
    {
     "data": {
      "text/plain": [
       "False"
      ]
     },
     "execution_count": 21,
     "metadata": {},
     "output_type": "execute_result"
    }
   ],
   "source": [
    "age >= 21"
   ]
  },
  {
   "cell_type": "markdown",
   "id": "9660e8e1",
   "metadata": {},
   "source": [
    "### 5.2.5 检查多个条件"
   ]
  },
  {
   "cell_type": "code",
   "execution_count": 23,
   "id": "d5b02628",
   "metadata": {},
   "outputs": [
    {
     "data": {
      "text/plain": [
       "False"
      ]
     },
     "execution_count": 23,
     "metadata": {},
     "output_type": "execute_result"
    }
   ],
   "source": [
    "age_0 = 22\n",
    "age_1 = 18\n",
    "age_0 >= 21 and age_1 >= 21"
   ]
  },
  {
   "cell_type": "code",
   "execution_count": 25,
   "id": "a83ec650",
   "metadata": {},
   "outputs": [
    {
     "data": {
      "text/plain": [
       "False"
      ]
     },
     "execution_count": 25,
     "metadata": {},
     "output_type": "execute_result"
    }
   ],
   "source": [
    "age_0 = 18\n",
    "age_0 >= 21 or age_1 >= 21"
   ]
  },
  {
   "cell_type": "markdown",
   "id": "90cb65f5",
   "metadata": {},
   "source": [
    "### 5.2.6 检查特定值是否不包含在列表中"
   ]
  },
  {
   "cell_type": "code",
   "execution_count": 26,
   "id": "4b88cdd7",
   "metadata": {},
   "outputs": [
    {
     "data": {
      "text/plain": [
       "False"
      ]
     },
     "execution_count": 26,
     "metadata": {},
     "output_type": "execute_result"
    }
   ],
   "source": [
    "requested_toppings = [\"mushrooms\",\"onions\",\"pineapple\"]\n",
    "\"mushrooms\" in requested_toppings\n",
    "\"pepperoni\" in requested_toppings"
   ]
  },
  {
   "cell_type": "markdown",
   "id": "6cf88154",
   "metadata": {},
   "source": [
    "### 5.2.7 检查特定值是否不包含在列表中"
   ]
  },
  {
   "cell_type": "code",
   "execution_count": 2,
   "id": "858638da",
   "metadata": {},
   "outputs": [
    {
     "name": "stdout",
     "output_type": "stream",
     "text": [
      "Marie,you can post a response if you wish.\n"
     ]
    }
   ],
   "source": [
    "banned_users = [\"andrew\",\"carolina\",\"david\"]\n",
    "user = \"marie\"\n",
    "if user not in banned_users:\n",
    "    print(user.title() + \",you can post a response if you wish.\")"
   ]
  },
  {
   "cell_type": "markdown",
   "id": "c16b69f9",
   "metadata": {},
   "source": [
    "### 5.2.8 布尔表达式"
   ]
  },
  {
   "cell_type": "code",
   "execution_count": 31,
   "id": "4dba6592",
   "metadata": {},
   "outputs": [],
   "source": [
    "game_acitive = True\n",
    "can_edit = False"
   ]
  },
  {
   "cell_type": "markdown",
   "id": "7349e9ec",
   "metadata": {},
   "source": [
    "## 5.3 if 语句"
   ]
  },
  {
   "cell_type": "markdown",
   "id": "7093052d",
   "metadata": {},
   "source": [
    "### 5.3.1 简单的if语句"
   ]
  },
  {
   "cell_type": "code",
   "execution_count": 33,
   "id": "506c8495",
   "metadata": {},
   "outputs": [
    {
     "name": "stdout",
     "output_type": "stream",
     "text": [
      "You are old enough to vote！\n"
     ]
    }
   ],
   "source": [
    "age = 19\n",
    "if age>= 18:\n",
    "    print(\"You are old enough to vote！\")"
   ]
  },
  {
   "cell_type": "code",
   "execution_count": 34,
   "id": "a34670bb",
   "metadata": {},
   "outputs": [
    {
     "name": "stdout",
     "output_type": "stream",
     "text": [
      "You are old enoough to votel\n"
     ]
    }
   ],
   "source": [
    "age = 19\n",
    "if age >= 18:\n",
    "    print(\"You are old enoough to votel\")"
   ]
  },
  {
   "cell_type": "code",
   "execution_count": 35,
   "id": "3bfb3f5e",
   "metadata": {},
   "outputs": [
    {
     "name": "stdout",
     "output_type": "stream",
     "text": [
      "You are old enough to votel\n",
      "Have you registered to vote yet\n"
     ]
    }
   ],
   "source": [
    "age = 19\n",
    "if age >= 18:\n",
    "    print(\"You are old enough to votel\")\n",
    "    print(\"Have you registered to vote yet\")"
   ]
  },
  {
   "cell_type": "markdown",
   "id": "25d1fe63",
   "metadata": {},
   "source": [
    "### 5.3.2 if-else 语句"
   ]
  },
  {
   "cell_type": "code",
   "execution_count": 38,
   "id": "a3398cea",
   "metadata": {},
   "outputs": [
    {
     "name": "stdout",
     "output_type": "stream",
     "text": [
      "Sorry,you are too young to vote\n",
      "Please register to vote as soon as you turn 18\n"
     ]
    }
   ],
   "source": [
    "age = 17\n",
    "if age >= 18:\n",
    "    print(\"You are old enough to votel\")\n",
    "    print(\"Have you registered to vote yet?\")\n",
    "else:\n",
    "    print(\"Sorry,you are too young to vote\")\n",
    "    print(\"Please register to vote as soon as you turn 18\")"
   ]
  },
  {
   "cell_type": "markdown",
   "id": "35d14c86",
   "metadata": {},
   "source": [
    "### 5.3.3 if-elif-else 结构"
   ]
  },
  {
   "cell_type": "code",
   "execution_count": 39,
   "id": "2bb33cfb",
   "metadata": {},
   "outputs": [
    {
     "name": "stdout",
     "output_type": "stream",
     "text": [
      "Your admission cost is 5\n"
     ]
    }
   ],
   "source": [
    "age =12 \n",
    "if age<4:\n",
    "    print(\"Your admission cost is 0\")\n",
    "elif age<18:\n",
    "    print(\"Your admission cost is 5\")\n",
    "else:\n",
    "    print(\"Your admission cost is $10\")"
   ]
  },
  {
   "cell_type": "code",
   "execution_count": 40,
   "id": "62c1d630",
   "metadata": {},
   "outputs": [
    {
     "name": "stdout",
     "output_type": "stream",
     "text": [
      "Your admission cost is $5.\n"
     ]
    }
   ],
   "source": [
    "age = 12\n",
    "if age<4:\n",
    "    price = 0\n",
    "elif age < 18:\n",
    "    price = 5\n",
    "else:\n",
    "    price = 10\n",
    "print(\"Your admission cost is $\"+ str(price) +\".\")"
   ]
  },
  {
   "cell_type": "markdown",
   "id": "58a7c33a",
   "metadata": {},
   "source": [
    "### 5.3.4 使用多个elif 代码块"
   ]
  },
  {
   "cell_type": "code",
   "execution_count": 41,
   "id": "e99ea67f",
   "metadata": {},
   "outputs": [
    {
     "name": "stdout",
     "output_type": "stream",
     "text": [
      "Your admission cost is $5.\n"
     ]
    }
   ],
   "source": [
    "age = 12\n",
    "if age <4:\n",
    "    price = 0\n",
    "elif age<18:\n",
    "    price = 5\n",
    "elif age < 65:\n",
    "    price = 10\n",
    "else:\n",
    "    price = 5\n",
    "print(\"Your admission cost is $\" + str(price)+\".\" )\n"
   ]
  },
  {
   "cell_type": "markdown",
   "id": "fee07291",
   "metadata": {},
   "source": [
    "### 5.3.5 省略else代码块"
   ]
  },
  {
   "cell_type": "code",
   "execution_count": 42,
   "id": "ee8c78bb",
   "metadata": {},
   "outputs": [
    {
     "name": "stdout",
     "output_type": "stream",
     "text": [
      "Your admission cost is $5.\n"
     ]
    }
   ],
   "source": [
    "age = 12\n",
    "if age <4:\n",
    "    price = 0\n",
    "elif age<18:\n",
    "    price = 5\n",
    "elif age < 65:\n",
    "    price = 10\n",
    "elif age >= 65:\n",
    "    price = 5\n",
    "print(\"Your admission cost is $\" + str(price)+\".\" )\n"
   ]
  },
  {
   "cell_type": "markdown",
   "id": "e0a1fcb4",
   "metadata": {},
   "source": [
    "### 5.3.6 测试多个条件"
   ]
  },
  {
   "cell_type": "code",
   "execution_count": 44,
   "id": "beae9d69",
   "metadata": {},
   "outputs": [
    {
     "name": "stdout",
     "output_type": "stream",
     "text": [
      "Adding mushrooms\n",
      "\n",
      "Finished making your pizza!\n"
     ]
    }
   ],
   "source": [
    "request_toppings = [\"mushrooms\",\"extra cheese\"]\n",
    "if \"mushrooms\" in requested_toppings:\n",
    "    print(\"Adding mushrooms\")\n",
    "if \"pepperoni\" in requested_toppings:\n",
    "    print(\"Adding pepperni\")\n",
    "if \"extra cheese\" in requested_toppings:\n",
    "    print(\"Adding extra cheese\")\n",
    "print(\"\\nFinished making your pizza!\")"
   ]
  },
  {
   "cell_type": "markdown",
   "id": "62da8940",
   "metadata": {},
   "source": [
    "## 5.4 使用if 语句处理列表"
   ]
  },
  {
   "cell_type": "markdown",
   "id": "699e8cc0",
   "metadata": {},
   "source": [
    "### 5.4.1 检查特殊元素"
   ]
  },
  {
   "cell_type": "code",
   "execution_count": 3,
   "id": "681c0e98",
   "metadata": {
    "scrolled": false
   },
   "outputs": [
    {
     "name": "stdout",
     "output_type": "stream",
     "text": [
      "Addingmushrooms.\n",
      "Addinggreen peppers.\n",
      "Addingextra cheese.\n",
      "\n",
      "Finishing making your pizza!\n"
     ]
    }
   ],
   "source": [
    "requested_toppings = [\"mushrooms\",\"green peppers\",\"extra cheese\"]\n",
    "for requested_topping in requested_toppings:\n",
    "    print(\"Adding\"+ requested_topping +\".\")\n",
    "print(\"\\nFinishing making your pizza!\")"
   ]
  },
  {
   "cell_type": "markdown",
   "id": "5695da2b",
   "metadata": {},
   "source": [
    "### 5.4.2确定列表不是空的"
   ]
  },
  {
   "cell_type": "code",
   "execution_count": 2,
   "id": "9ef6ba5e",
   "metadata": {},
   "outputs": [
    {
     "name": "stdout",
     "output_type": "stream",
     "text": [
      "Are you sure you want a plain pizza?\n"
     ]
    }
   ],
   "source": [
    "requested_toppings = [] \n",
    "if requested_toppings: \n",
    "    for requested_topping in requested_toppings: \n",
    "        print(\"Adding \" + requested_topping + \".\") \n",
    "    print(\"\\nFinished making your pizza!\") \n",
    "else: \n",
    "    print(\"Are you sure you want a plain pizza?\")"
   ]
  },
  {
   "cell_type": "markdown",
   "id": "2e594d9c",
   "metadata": {},
   "source": [
    "# 第五章习题"
   ]
  },
  {
   "cell_type": "code",
   "execution_count": 2,
   "id": "6f181d26",
   "metadata": {},
   "outputs": [],
   "source": [
    "# 5-1"
   ]
  },
  {
   "cell_type": "code",
   "execution_count": 4,
   "id": "e816ffec",
   "metadata": {},
   "outputs": [
    {
     "ename": "SyntaxError",
     "evalue": "EOL while scanning string literal (157197484.py, line 2)",
     "output_type": "error",
     "traceback": [
      "\u001b[1;36m  File \u001b[1;32m\"C:\\Users\\HP\\AppData\\Local\\Temp\\ipykernel_4620\\157197484.py\"\u001b[1;36m, line \u001b[1;32m2\u001b[0m\n\u001b[1;33m    print(\"Is car == 'subaru'?I predict True.”)\u001b[0m\n\u001b[1;37m                                               ^\u001b[0m\n\u001b[1;31mSyntaxError\u001b[0m\u001b[1;31m:\u001b[0m EOL while scanning string literal\n"
     ]
    }
   ],
   "source": [
    "car = \"subaru\"\n",
    "print(\"Is car == 'subaru'?I predict True.”)\n",
    "print(car == \"subaru\")\n",
    "print(\"\\nIs car == 'audi'?I predict False.\")"
   ]
  },
  {
   "cell_type": "code",
   "execution_count": 7,
   "id": "018d3a17",
   "metadata": {},
   "outputs": [],
   "source": [
    "# 5-3"
   ]
  },
  {
   "cell_type": "code",
   "execution_count": 16,
   "id": "f2dd58eb",
   "metadata": {},
   "outputs": [
    {
     "name": "stdout",
     "output_type": "stream",
     "text": [
      "You got five points\n"
     ]
    }
   ],
   "source": [
    "alien_color = \"green\"\n",
    "if alien_color==\"green\":\n",
    "    print(\"You got five points\")"
   ]
  },
  {
   "cell_type": "code",
   "execution_count": 10,
   "id": "2d9493cf",
   "metadata": {},
   "outputs": [],
   "source": [
    "# 5.4"
   ]
  },
  {
   "cell_type": "code",
   "execution_count": 12,
   "id": "cd11d509",
   "metadata": {},
   "outputs": [
    {
     "name": "stdout",
     "output_type": "stream",
     "text": [
      "You got five points\n"
     ]
    }
   ],
   "source": [
    "alien_color = \"green\"\n",
    "if alien_color == \"green\":\n",
    "    print(\"You got five points\")\n",
    "else:\n",
    "    print(\"You got 10 points\")"
   ]
  },
  {
   "cell_type": "code",
   "execution_count": 17,
   "id": "9956e8a5",
   "metadata": {},
   "outputs": [],
   "source": [
    "# 5-5"
   ]
  },
  {
   "cell_type": "code",
   "execution_count": 20,
   "id": "36114d2e",
   "metadata": {},
   "outputs": [
    {
     "name": "stdout",
     "output_type": "stream",
     "text": [
      "You got five points\n"
     ]
    }
   ],
   "source": [
    "alien_color = \"green\"\n",
    "if alien_color == \"green\":\n",
    "    print(\"You got five points\")\n",
    "elif alien_color == \"yellow\":\n",
    "    print(\"You got 2 points\")\n",
    "elif alien_color == \"red\":\n",
    "    print(\"You got 10 points\")"
   ]
  },
  {
   "cell_type": "code",
   "execution_count": 21,
   "id": "924d4445",
   "metadata": {},
   "outputs": [],
   "source": [
    "# 5-6"
   ]
  },
  {
   "cell_type": "code",
   "execution_count": 6,
   "id": "fc2f82aa",
   "metadata": {},
   "outputs": [
    {
     "name": "stdout",
     "output_type": "stream",
     "text": [
      "4\n"
     ]
    }
   ],
   "source": [
    "age = int(input())\n",
    "if age < 2:\n",
    "    print(\"He is a baby\")\n",
    "elif 2< age <4:\n",
    "    print(\"He  is running\")\n",
    "elif 4< age <13:\n",
    "    print(\"He is a child\")\n",
    "elif 13< age <20:\n",
    "    print(\"He is a qingnian\")\n",
    "elif 20 <age <65:\n",
    "    print(\"He is a man\")\n",
    "elif age>65:\n",
    "    print(\"He is an old man\")"
   ]
  },
  {
   "cell_type": "code",
   "execution_count": null,
   "id": "e21c2ac5",
   "metadata": {},
   "outputs": [],
   "source": [
    "#5-7"
   ]
  },
  {
   "cell_type": "code",
   "execution_count": 2,
   "id": "91cb9a25",
   "metadata": {},
   "outputs": [
    {
     "name": "stdout",
     "output_type": "stream",
     "text": [
      "You really like bananas!\n",
      "You really like banana!\n",
      "You really like banana！\n"
     ]
    }
   ],
   "source": [
    "favorite_fruits = [\"a\",\"b\",\"c\"]\n",
    "if \"a\" in favorite_fruits:\n",
    "    print(\"You really like bananas!\")\n",
    "if \"b\" in favorite_fruits:\n",
    "    print(\"You really like banana!\")\n",
    "if \"c\" in favorite_fruits:\n",
    "    print(\"You really like banana！\")               "
   ]
  },
  {
   "cell_type": "code",
   "execution_count": null,
   "id": "d7e9da12",
   "metadata": {},
   "outputs": [],
   "source": [
    "# 5-8"
   ]
  },
  {
   "cell_type": "code",
   "execution_count": null,
   "id": "cce19f37",
   "metadata": {},
   "outputs": [],
   "source": [
    "k = [\"admin\",\"b\",\"c\",\"d\",\"e\"]\n",
    "x = input()\n",
    "if x ==\"admin\":\n",
    "    print(\"Hello admin,would you like to see a status report?\")\n",
    "else:\n",
    "    print(\"Hello Eric, thank you for logging in again\")"
   ]
  },
  {
   "cell_type": "code",
   "execution_count": null,
   "id": "e92d24ff",
   "metadata": {},
   "outputs": [],
   "source": [
    "# 5-9"
   ]
  },
  {
   "cell_type": "code",
   "execution_count": 7,
   "id": "41b9bfbc",
   "metadata": {},
   "outputs": [
    {
     "name": "stdout",
     "output_type": "stream",
     "text": [
      "Hello Alice, thank you for logging in again.\n",
      "Hello Bob, thank you for logging in again.\n",
      "Hello Charlie, thank you for logging in again.\n",
      "Hello David, thank you for logging in again.\n",
      "Hello admin, would you like to see a status report?\n",
      "We need to find some users!\n"
     ]
    }
   ],
   "source": [
    "\n",
    "users_list = ['Alice', 'Bob', 'Charlie', 'David', 'admin']\n",
    "if len(users_list) == 0:\n",
    "    print(\"We need to find some users!\")\n",
    "else:\n",
    "    for user in users_list:\n",
    "        if user == 'admin':\n",
    "            print(f\"Hello admin, would you like to see a status report?\")\n",
    "        else:\n",
    "            print(f\"Hello {user}, thank you for logging in again.\")\n",
    "users_list.clear()\n",
    "if len(users_list) == 0:\n",
    "    print(\"We need to find some users!\")"
   ]
  },
  {
   "cell_type": "code",
   "execution_count": null,
   "id": "8d75784c",
   "metadata": {},
   "outputs": [],
   "source": [
    "# 有点难."
   ]
  },
  {
   "cell_type": "code",
   "execution_count": null,
   "id": "4ca5cff4",
   "metadata": {},
   "outputs": [],
   "source": [
    "# 5-10"
   ]
  },
  {
   "cell_type": "code",
   "execution_count": null,
   "id": "134422b4",
   "metadata": {},
   "outputs": [],
   "source": [
    "current_users = [\"a\",\"b\",\"c\",\"d\",\"e\"]\n",
    "new_users = [\"a\",\"b\"，\"k\",\"m\"，\"n\"]\n",
    "for i in new_users:\n",
    "    if i in current_users:\n",
    "        print(\"You should print other name\")\n",
    "    else:\n",
    "        print(\"The name is never used\")"
   ]
  },
  {
   "cell_type": "code",
   "execution_count": null,
   "id": "c2cf11ed",
   "metadata": {},
   "outputs": [],
   "source": [
    "#5-11"
   ]
  },
  {
   "cell_type": "code",
   "execution_count": 8,
   "id": "076ff230",
   "metadata": {},
   "outputs": [
    {
     "name": "stdout",
     "output_type": "stream",
     "text": [
      "1st\n",
      "2nd\n",
      "3rd\n",
      "4th\n",
      "5th\n",
      "6th\n",
      "7th\n",
      "8th\n",
      "9th\n"
     ]
    }
   ],
   "source": [
    "\n",
    "numbers = [1, 2, 3, 4, 5, 6, 7, 8, 9]\n",
    "for number in numbers:\n",
    "    if number == 1:\n",
    "        print(f\"{number}st\")\n",
    "    elif number == 2:\n",
    "        print(f\"{number}nd\")\n",
    "    elif number == 3:\n",
    "        print(f\"{number}rd\")\n",
    "    else:\n",
    "        print(f\"{number}th\")"
   ]
  },
  {
   "cell_type": "code",
   "execution_count": null,
   "id": "cb72b04d",
   "metadata": {},
   "outputs": [],
   "source": []
  },
  {
   "cell_type": "code",
   "execution_count": null,
   "id": "366a7729",
   "metadata": {},
   "outputs": [],
   "source": []
  }
 ],
 "metadata": {
  "kernelspec": {
   "display_name": "Python 3 (ipykernel)",
   "language": "python",
   "name": "python3"
  },
  "language_info": {
   "codemirror_mode": {
    "name": "ipython",
    "version": 3
   },
   "file_extension": ".py",
   "mimetype": "text/x-python",
   "name": "python",
   "nbconvert_exporter": "python",
   "pygments_lexer": "ipython3",
   "version": "3.9.13"
  }
 },
 "nbformat": 4,
 "nbformat_minor": 5
}
