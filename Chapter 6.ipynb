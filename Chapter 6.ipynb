{
 "cells": [
  {
   "cell_type": "markdown",
   "id": "d6ad617e",
   "metadata": {},
   "source": [
    "# 第六章： 字典"
   ]
  },
  {
   "cell_type": "markdown",
   "id": "0f0d9cc9",
   "metadata": {},
   "source": [
    "## 6.1 一个简单的字典"
   ]
  },
  {
   "cell_type": "code",
   "execution_count": 2,
   "id": "986a4a3d",
   "metadata": {},
   "outputs": [
    {
     "name": "stdout",
     "output_type": "stream",
     "text": [
      "green\n",
      "5\n"
     ]
    }
   ],
   "source": [
    "alien_0 = {\"color\":\"green\",\"points\":5}\n",
    "print(alien_0[\"color\"])\n",
    "print(alien_0[\"points\"])"
   ]
  },
  {
   "cell_type": "markdown",
   "id": "6d0ca5fd",
   "metadata": {},
   "source": [
    "## 6.2 使用字典"
   ]
  },
  {
   "cell_type": "code",
   "execution_count": 3,
   "id": "d9be7da1",
   "metadata": {},
   "outputs": [],
   "source": [
    "alien_0 = {\"color\":\"green\",\"points\":5}\n",
    "alien_0 = {\"color\":\"green\"}"
   ]
  },
  {
   "cell_type": "markdown",
   "id": "c360b604",
   "metadata": {},
   "source": [
    "### 6.2.1访问字典中的值 "
   ]
  },
  {
   "cell_type": "code",
   "execution_count": 4,
   "id": "84fb4005",
   "metadata": {},
   "outputs": [
    {
     "name": "stdout",
     "output_type": "stream",
     "text": [
      "green\n"
     ]
    }
   ],
   "source": [
    "alien_0 = {\"color\":\"green\"}\n",
    "print(alien_0[\"color\"])"
   ]
  },
  {
   "cell_type": "code",
   "execution_count": 1,
   "id": "dffae9b5",
   "metadata": {},
   "outputs": [
    {
     "name": "stdout",
     "output_type": "stream",
     "text": [
      "You just earned5points!\n"
     ]
    }
   ],
   "source": [
    "alien_0 = {\"color\":\"green\",\"points\":5}\n",
    "new_points = alien_0[\"points\"]\n",
    "print(\"You just earned\"+str(new_points)+\"points!\")"
   ]
  },
  {
   "cell_type": "markdown",
   "id": "191b4fd7",
   "metadata": {},
   "source": [
    "### 6.2.2 添加键-值对"
   ]
  },
  {
   "cell_type": "code",
   "execution_count": 3,
   "id": "8e6a55be",
   "metadata": {},
   "outputs": [
    {
     "name": "stdout",
     "output_type": "stream",
     "text": [
      "{'color': 'green', 'points': 5}\n",
      "{'color': 'green', 'points': 5, 'x_position': 0, 'y_position': 25}\n"
     ]
    }
   ],
   "source": [
    "alien_0 = {\"color\":\"green\",\"points\":5}\n",
    "print(alien_0)\n",
    "alien_0['x_position'] = 0 \n",
    "alien_0['y_position'] = 25 \n",
    "print(alien_0)"
   ]
  },
  {
   "cell_type": "markdown",
   "id": "6ca7c228",
   "metadata": {},
   "source": [
    "### 6.2.3 先创建一个空字典"
   ]
  },
  {
   "cell_type": "code",
   "execution_count": 4,
   "id": "41036ad6",
   "metadata": {},
   "outputs": [
    {
     "name": "stdout",
     "output_type": "stream",
     "text": [
      "{'color': 'green', 'points': 5}\n"
     ]
    }
   ],
   "source": [
    "alien_0 = {}\n",
    "alien_0['color'] = 'green' \n",
    "alien_0['points'] = 5\n",
    "print(alien_0)"
   ]
  },
  {
   "cell_type": "markdown",
   "id": "2b57747a",
   "metadata": {},
   "source": [
    "### 6.2.4 修改字典中的值"
   ]
  },
  {
   "cell_type": "code",
   "execution_count": 5,
   "id": "f2881ec9",
   "metadata": {},
   "outputs": [
    {
     "name": "stdout",
     "output_type": "stream",
     "text": [
      "The alien is green.\n",
      "The alien is now yellow.\n"
     ]
    }
   ],
   "source": [
    "alien_0 = {'color': 'green'} \n",
    "print(\"The alien is \" + alien_0['color'] + \".\") \n",
    "alien_0['color'] = 'yellow' \n",
    "print(\"The alien is now \" + alien_0['color'] + \".\")"
   ]
  },
  {
   "cell_type": "markdown",
   "id": "dda0499c",
   "metadata": {},
   "source": [
    "### 6.2.5 删除键-值对"
   ]
  },
  {
   "cell_type": "code",
   "execution_count": 7,
   "id": "9a47ad3c",
   "metadata": {},
   "outputs": [
    {
     "name": "stdout",
     "output_type": "stream",
     "text": [
      "{'color': 'green', 'points': 5}\n"
     ]
    }
   ],
   "source": [
    "alien_0 = {\"color\":\"green\",\"points\":5}\n",
    "print(alien_0)\n",
    "del alien_0[\"points\"]"
   ]
  },
  {
   "cell_type": "markdown",
   "id": "cd72819c",
   "metadata": {},
   "source": [
    "### 6.2.6 由类似对象组成的字典"
   ]
  },
  {
   "cell_type": "code",
   "execution_count": 7,
   "id": "54a5dcb2",
   "metadata": {},
   "outputs": [
    {
     "name": "stdout",
     "output_type": "stream",
     "text": [
      "Sarah's favorite language is C.\n"
     ]
    }
   ],
   "source": [
    "favorite_language = {\"jen\":\"python\",\"sarah\":\"c\",\"edward\":\"ruby\"}\n",
    "print(\"Sarah's favorite language is \" + favorite_language['sarah'].title() + \".\")"
   ]
  },
  {
   "cell_type": "markdown",
   "id": "abd5d927",
   "metadata": {},
   "source": [
    "## 6.3 遍历字典"
   ]
  },
  {
   "cell_type": "markdown",
   "id": "224fed67",
   "metadata": {},
   "source": [
    "### 6.3.1 遍历所有的键值对"
   ]
  },
  {
   "cell_type": "code",
   "execution_count": 13,
   "id": "b78f97de",
   "metadata": {},
   "outputs": [
    {
     "name": "stdout",
     "output_type": "stream",
     "text": [
      "\n",
      "Key:username\n",
      "Value:efermi\n",
      "\n",
      "Key:first\n",
      "Value:emrico\n",
      "\n",
      "Key:last\n",
      "Value:fermi\n",
      "Jen's favorite language is Python.\n",
      "Sarah's favorite language is C.\n",
      "Edward's favorite language is Ruby.\n",
      "Phil's favorite language is Python.\n"
     ]
    }
   ],
   "source": [
    "user_0 = {\"username\":\"efermi\",\"first\":\"emrico\",\"last\":\"fermi\"}\n",
    "for key,value in user_0.items():\n",
    "    print(\"\\nKey:\"+ key)\n",
    "    print(\"Value:\"+ value)\n",
    "favorite_languages = { \n",
    " 'jen': 'python', \n",
    " 'sarah': 'c', \n",
    " 'edward': 'ruby', \n",
    " 'phil': 'python', \n",
    " }\n",
    "for name, language in favorite_languages.items(): \n",
    "    print(name.title() + \"'s favorite language is \" + language.title() + \".\")"
   ]
  },
  {
   "cell_type": "markdown",
   "id": "84c03246",
   "metadata": {},
   "source": [
    "### 6.3.2 遍历字典中的所有键"
   ]
  },
  {
   "cell_type": "code",
   "execution_count": 17,
   "id": "df91e054",
   "metadata": {},
   "outputs": [
    {
     "name": "stdout",
     "output_type": "stream",
     "text": [
      "Jen\n",
      "Sarah\n",
      "Edward\n",
      "Phil\n"
     ]
    }
   ],
   "source": [
    "favorite_languages = { \n",
    " 'jen': 'python', \n",
    " 'sarah': 'c', \n",
    " 'edward': 'ruby', \n",
    " 'phil': 'python', \n",
    " }\n",
    "for name in favorite_languages.keys(): \n",
    "    print(name.title())"
   ]
  },
  {
   "cell_type": "code",
   "execution_count": 15,
   "id": "42f72221",
   "metadata": {},
   "outputs": [
    {
     "name": "stdout",
     "output_type": "stream",
     "text": [
      "Jen\n",
      "Sarah\n",
      " Hi Sarah, I see your favorite language is C!\n",
      "Edward\n",
      "Phil\n",
      " Hi Phil, I see your favorite language is Python!\n"
     ]
    }
   ],
   "source": [
    "favorite_languages = { 'jen': 'python', 'sarah': 'c', 'edward': 'ruby', 'phil': 'python'} \n",
    "friends = ['phil','sarah'] \n",
    "for name in favorite_languages.keys(): \n",
    "    print(name.title()) \n",
    "    if name in friends: \n",
    "        print(\" Hi \" + name.title() +  \", I see your favorite language is \" + favorite_languages[name].title() + \"!\")"
   ]
  },
  {
   "cell_type": "markdown",
   "id": "256a1820",
   "metadata": {},
   "source": [
    "### 6.3.3 按顺序遍历字典中的"
   ]
  },
  {
   "cell_type": "code",
   "execution_count": 20,
   "id": "0e6785a3",
   "metadata": {},
   "outputs": [
    {
     "name": "stdout",
     "output_type": "stream",
     "text": [
      "Edward, thank you for taking the poll.\n",
      "Jen, thank you for taking the poll.\n",
      "Phil, thank you for taking the poll.\n",
      "Sarah, thank you for taking the poll.\n"
     ]
    }
   ],
   "source": [
    "favorite_languages = { \n",
    " 'jen': 'python', \n",
    " 'sarah': 'c', \n",
    " 'edward': 'ruby', \n",
    " 'phil': 'python', \n",
    " } \n",
    "for name in sorted(favorite_languages.keys()): \n",
    "    print(name.title() + \", thank you for taking the poll.\")"
   ]
  },
  {
   "cell_type": "markdown",
   "id": "fe8d008c",
   "metadata": {},
   "source": [
    "### 6.3.4 遍历字典中的所有值"
   ]
  },
  {
   "cell_type": "code",
   "execution_count": 21,
   "id": "9138b19c",
   "metadata": {},
   "outputs": [
    {
     "name": "stdout",
     "output_type": "stream",
     "text": [
      "The following languages have been mentioned:\n",
      "Python\n",
      "C\n",
      "Ruby\n",
      "Python\n"
     ]
    }
   ],
   "source": [
    "favorite_languages = { \n",
    " 'jen': 'python', \n",
    " 'sarah': 'c', \n",
    " 'edward': 'ruby', \n",
    " 'phil': 'python',\n",
    " } \n",
    "print(\"The following languages have been mentioned:\") \n",
    "for language in favorite_languages.values(): \n",
    "    print(language.title())    "
   ]
  },
  {
   "cell_type": "code",
   "execution_count": 22,
   "id": "d8b243ed",
   "metadata": {},
   "outputs": [
    {
     "name": "stdout",
     "output_type": "stream",
     "text": [
      "The following languages have been mentioned:\n",
      "Python\n",
      "C\n",
      "Ruby\n"
     ]
    }
   ],
   "source": [
    "favorite_languages = { \n",
    " 'jen': 'python', \n",
    " 'sarah': 'c', \n",
    " 'edward': 'ruby', \n",
    " 'phil': 'python', \n",
    " } \n",
    "print(\"The following languages have been mentioned:\") \n",
    "for language in set(favorite_languages.values()): \n",
    "    print(language.title())"
   ]
  },
  {
   "cell_type": "markdown",
   "id": "e3dfe3e6",
   "metadata": {},
   "source": [
    "### 6.4 嵌套"
   ]
  },
  {
   "cell_type": "markdown",
   "id": "58d1bdb5",
   "metadata": {},
   "source": [
    "### 6.4.1字典列表"
   ]
  },
  {
   "cell_type": "code",
   "execution_count": 23,
   "id": "bd494fec",
   "metadata": {},
   "outputs": [
    {
     "name": "stdout",
     "output_type": "stream",
     "text": [
      "{'color': 'green', 'points': 5}\n",
      "{'color': 'yellow', 'points': 10}\n",
      "{'color': 'red', 'points': 15}\n"
     ]
    }
   ],
   "source": [
    "alien_0 = {'color': 'green', 'points': 5} \n",
    "alien_1 = {'color': 'yellow', 'points': 10} \n",
    "alien_2 = {'color': 'red', 'points': 15} \n",
    "aliens = [alien_0, alien_1, alien_2] \n",
    "for alien in aliens: \n",
    "    print(alien)"
   ]
  },
  {
   "cell_type": "code",
   "execution_count": 1,
   "id": "88d73c17",
   "metadata": {},
   "outputs": [
    {
     "name": "stdout",
     "output_type": "stream",
     "text": [
      "{'color': 'green', 'points': 5, 'speed': 'slow'}\n",
      "{'color': 'green', 'points': 5, 'speed': 'slow'}\n",
      "{'color': 'green', 'points': 5, 'speed': 'slow'}\n",
      "{'color': 'green', 'points': 5, 'speed': 'slow'}\n",
      "{'color': 'green', 'points': 5, 'speed': 'slow'}\n",
      "...\n",
      "Tatal number of aliens:30\n"
     ]
    }
   ],
   "source": [
    "aliens = []\n",
    "for aliens_number in range(30):\n",
    "    new_alien = {\"color\":\"green\",\"points\":5,\"speed\":\"slow\"}\n",
    "    aliens.append(new_alien)\n",
    "for alien in aliens[:5]:\n",
    "    print(alien)\n",
    "print(\"...\")\n",
    "print(\"Tatal number of aliens:\"+str(len(aliens)))\n"
   ]
  },
  {
   "cell_type": "code",
   "execution_count": 2,
   "id": "9af07bfe",
   "metadata": {},
   "outputs": [
    {
     "name": "stdout",
     "output_type": "stream",
     "text": [
      "{'color': 'yellow', 'points': 10, 'speed': 'medium'}\n",
      "{'color': 'yellow', 'points': 10, 'speed': 'medium'}\n",
      "{'color': 'yellow', 'points': 10, 'speed': 'medium'}\n",
      "{'color': 'green', 'points': 5, 'speed': 'slow'}\n",
      "{'color': 'green', 'points': 5, 'speed': 'slow'}\n",
      "...\n"
     ]
    }
   ],
   "source": [
    "aliens = []\n",
    "for alien_number in range(0,30):\n",
    "    new_alien = {'color': 'green', 'points': 5, 'speed': 'slow'} \n",
    "    aliens.append(new_alien) \n",
    "for alien in aliens[0:3]:\n",
    "    if alien[\"color\"] == \"green\":\n",
    "        alien[\"color\"]=\"yellow\"\n",
    "        alien[\"speed\"]=\"medium\"\n",
    "        alien[\"points\"]=10\n",
    "for alien in aliens[0:5]:\n",
    "    print(alien)\n",
    "print(\"...\")"
   ]
  },
  {
   "cell_type": "markdown",
   "id": "c225d71e",
   "metadata": {},
   "source": [
    "### 6.4.2 在字典中存储列表"
   ]
  },
  {
   "cell_type": "code",
   "execution_count": 3,
   "id": "7e527be2",
   "metadata": {},
   "outputs": [
    {
     "name": "stdout",
     "output_type": "stream",
     "text": [
      "You ordered athick-cust pizzawith the following topping:\n",
      "\tmushrooms\n",
      "\textra cheese\n"
     ]
    }
   ],
   "source": [
    "pizza = {\"crust\":\"thick\",\"toppings\":[\"mushrooms\",\"extra cheese\"]}\n",
    "print(\"You ordered a\" + pizza[\"crust\"]+ \"-cust pizza\"+\"with the following topping:\")\n",
    "for topping in pizza[\"toppings\"]:\n",
    "    print(\"\\t\"+topping)"
   ]
  },
  {
   "cell_type": "markdown",
   "id": "63a0b574",
   "metadata": {},
   "source": [
    "favorite_languages = {\"jen\":[\"Python\",\"ruby\"],\"sarah\":[\"c\"],\"edward\":[\"ruby\",\"go\"],\"phil\":[\"python\",\"haskell\"]}\n",
    "for name,languages in favorite_languages.items():\n",
    "    print(\"\\n\"+name.title()+\"\"s favorite languages are:\"\")\n",
    "    for language in languages:\n",
    "        print(\"\\t\" + language.title())"
   ]
  },
  {
   "cell_type": "markdown",
   "id": "3699e2be",
   "metadata": {},
   "source": [
    "### 6.4.3 在字典中存储字典"
   ]
  },
  {
   "cell_type": "code",
   "execution_count": 16,
   "id": "2aa1d5ef",
   "metadata": {},
   "outputs": [
    {
     "name": "stdout",
     "output_type": "stream",
     "text": [
      "\n",
      "Username:aeinstein\n",
      "\tFull name: Albert Einstein\n",
      "\tLocation: Princeton\n",
      "\n",
      "Username:mcurie\n",
      "\tFull name: Marie Curie\n",
      "\tLocation: Paris\n"
     ]
    }
   ],
   "source": [
    "users = { \n",
    "'aeinstein': { \n",
    " 'first': 'albert', \n",
    " 'last': 'einstein', \n",
    " 'location': 'princeton', \n",
    " }, \n",
    " 'mcurie': { \n",
    " 'first': 'marie', \n",
    " 'last': 'curie', \n",
    " 'location': 'paris', \n",
    " } } \n",
    "for username,user_info in users.items():\n",
    "    print(\"\\nUsername:\"+username)\n",
    "    full_name = user_info[\"first\"]+\" \"+user_info['last'] \n",
    "    location = user_info[\"location\"]\n",
    "    print(\"\\tFull name: \" + full_name.title()) \n",
    "    print(\"\\tLocation: \" + location.title()) "
   ]
  },
  {
   "cell_type": "markdown",
   "id": "8927894a",
   "metadata": {},
   "source": [
    "### 习题"
   ]
  },
  {
   "cell_type": "code",
   "execution_count": 10,
   "id": "3d131943",
   "metadata": {},
   "outputs": [],
   "source": [
    "# 6-1"
   ]
  },
  {
   "cell_type": "code",
   "execution_count": 21,
   "id": "6ebf5ff0",
   "metadata": {},
   "outputs": [
    {
     "name": "stdout",
     "output_type": "stream",
     "text": [
      "first_name\n",
      "last_name\n",
      "age\n",
      "city\n"
     ]
    }
   ],
   "source": [
    "k = {\"first_name\":\"Han\",\"last_name\":\"Xu\",\"age\":\"13\",\"city\":\"Nan JIng\"}\n",
    "for i,j in k.items():\n",
    "    print(i)"
   ]
  },
  {
   "cell_type": "code",
   "execution_count": 3,
   "id": "b0816cf9",
   "metadata": {},
   "outputs": [],
   "source": [
    "#6-2"
   ]
  },
  {
   "cell_type": "code",
   "execution_count": 26,
   "id": "f1c33e2f",
   "metadata": {},
   "outputs": [
    {
     "name": "stdout",
     "output_type": "stream",
     "text": [
      "Han Xu 13\n",
      "Xiao ming 18\n",
      "Xiao huang 16\n",
      "Xiao zhang 19\n",
      "Xiao hong 20\n"
     ]
    }
   ],
   "source": [
    "k = {\"Han Xu\":\"13\",\"Xiao ming\":\"18\",\"Xiao huang\":\"16\",\"Xiao zhang\":'19',\"Xiao hong\":\"20\"}\n",
    "for i,m in k.items():\n",
    "    print(i,m)"
   ]
  },
  {
   "cell_type": "code",
   "execution_count": 5,
   "id": "4671da0e",
   "metadata": {},
   "outputs": [],
   "source": [
    "# 6.3"
   ]
  },
  {
   "cell_type": "code",
   "execution_count": 30,
   "id": "16e7916b",
   "metadata": {},
   "outputs": [
    {
     "name": "stdout",
     "output_type": "stream",
     "text": [
      "max:da\n",
      "min:xiao\n",
      "more:duo\n",
      "less:shao\n",
      "a:sho\n"
     ]
    }
   ],
   "source": [
    "k = {\"max\":\"da\",\"min\":\"xiao\",\"more\":\"duo\",\"less\":\"shao\",\"a\":\"sho\"}\n",
    "for i,n in k.items():\n",
    "    print(i+\":\"+n)"
   ]
  },
  {
   "cell_type": "code",
   "execution_count": 31,
   "id": "e522985d",
   "metadata": {},
   "outputs": [],
   "source": [
    "#6.4"
   ]
  },
  {
   "cell_type": "code",
   "execution_count": 32,
   "id": "3fb2ef14",
   "metadata": {},
   "outputs": [
    {
     "name": "stdout",
     "output_type": "stream",
     "text": [
      "max:da\n",
      "min:xiao\n",
      "more:duo\n",
      "less:shao\n",
      "a:sho\n"
     ]
    }
   ],
   "source": [
    "k = {\"max\":\"da\",\"min\":\"xiao\",\"more\":\"duo\",\"less\":\"shao\",\"a\":\"sho\"}\n",
    "for i,n in k.items():\n",
    "    print(i+\":\"+n)"
   ]
  },
  {
   "cell_type": "code",
   "execution_count": 33,
   "id": "a7eb6ac2",
   "metadata": {},
   "outputs": [],
   "source": [
    "#6-5"
   ]
  },
  {
   "cell_type": "code",
   "execution_count": 35,
   "id": "300d7c98",
   "metadata": {},
   "outputs": [
    {
     "name": "stdout",
     "output_type": "stream",
     "text": [
      "Thexiao heruns through Egypt.\n",
      "xiao he\n",
      "15\n",
      "Theda heruns through Egypt.\n",
      "da he\n",
      "19\n",
      "Thechao da heruns through Egypt.\n",
      "chao da he\n",
      "23\n"
     ]
    }
   ],
   "source": [
    "x = {\"xiao he\":\"15\",\"da he\":\"19\",\"chao da he\":\"23\"}\n",
    "for i,k in x.items():\n",
    "    print(\"The\"+i+\"runs through Egypt.\")\n",
    "    print(i)\n",
    "    print(k)"
   ]
  },
  {
   "cell_type": "code",
   "execution_count": null,
   "id": "80c58a9d",
   "metadata": {},
   "outputs": [],
   "source": [
    "#6-7"
   ]
  },
  {
   "cell_type": "code",
   "execution_count": 37,
   "id": "5d56634b",
   "metadata": {},
   "outputs": [
    {
     "name": "stdout",
     "output_type": "stream",
     "text": [
      "first_name Han\n",
      "last_name Xu\n",
      "age 13\n",
      "city Nan JIng\n",
      "ming 12\n",
      "min 13\n"
     ]
    }
   ],
   "source": [
    "people = {\"first_name\":\"Han\",\"last_name\":\"Xu\",\"age\":\"13\",\"city\":\"Nan JIng\",\"ming\":\"12\",\"min\":\"13\"}\n",
    "for i,j in people.items():\n",
    "    print(i,j)"
   ]
  },
  {
   "cell_type": "code",
   "execution_count": 38,
   "id": "e8f5dbba",
   "metadata": {},
   "outputs": [],
   "source": [
    "#6-8"
   ]
  },
  {
   "cell_type": "code",
   "execution_count": 39,
   "id": "80df61b0",
   "metadata": {
    "scrolled": true
   },
   "outputs": [
    {
     "name": "stdout",
     "output_type": "stream",
     "text": [
      "Pet Name: Buddy\n",
      "Type: Dog\n",
      "Owner: Alice\n",
      "\n",
      "Pet Name: Whiskers\n",
      "Type: Cat\n",
      "Owner: Bob\n",
      "\n",
      "Pet Name: Thumper\n",
      "Type: Rabbit\n",
      "Owner: Charlie\n",
      "\n"
     ]
    }
   ],
   "source": [
    "\n",
    "dog_dict = {\"pet_name\": \"Buddy\", \"type\": \"Dog\", \"owner\": \"Alice\"}\n",
    "cat_dict = {\"pet_name\": \"Whiskers\", \"type\": \"Cat\", \"owner\": \"Bob\"}\n",
    "rabbit_dict = {\"pet_name\": \"Thumper\", \"type\": \"Rabbit\", \"owner\": \"Charlie\"}\n",
    "pets = [dog_dict, cat_dict, rabbit_dict]\n",
    "for pet in pets:\n",
    "    print(f\"Pet Name: {pet['pet_name']}\")\n",
    "    print(f\"Type: {pet['type']}\")\n",
    "    print(f\"Owner: {pet['owner']}\\n\") \n"
   ]
  },
  {
   "cell_type": "code",
   "execution_count": null,
   "id": "ec9d8cef",
   "metadata": {},
   "outputs": [],
   "source": [
    "# 6-9"
   ]
  },
  {
   "cell_type": "code",
   "execution_count": 40,
   "id": "fb9fb720",
   "metadata": {},
   "outputs": [
    {
     "name": "stdout",
     "output_type": "stream",
     "text": [
      "Alice's favorite places:\n",
      "- Paris\n",
      "- Tokyo\n",
      "- New York\n",
      "\n",
      "Bob's favorite places:\n",
      "- London\n",
      "- Sydney\n",
      "\n",
      "Charlie's favorite places:\n",
      "- Rome\n",
      "- Barcelona\n",
      "- Cape Town\n",
      "\n"
     ]
    }
   ],
   "source": [
    "favorite_places = {\n",
    "    \"Alice\": [\"Paris\", \"Tokyo\", \"New York\"],\n",
    "    \"Bob\": [\"London\", \"Sydney\"],\n",
    "    \"Charlie\": [\"Rome\", \"Barcelona\", \"Cape Town\"],\n",
    "}\n",
    "for person, places in favorite_places.items():\n",
    "    print(f\"{person}'s favorite places:\")\n",
    "    for place in places:\n",
    "        print(f\"- {place}\")\n",
    "    print() "
   ]
  },
  {
   "cell_type": "code",
   "execution_count": null,
   "id": "af1d3b5f",
   "metadata": {},
   "outputs": [],
   "source": [
    "#6-10"
   ]
  },
  {
   "cell_type": "code",
   "execution_count": 43,
   "id": "6b0a60a7",
   "metadata": {},
   "outputs": [
    {
     "name": "stdout",
     "output_type": "stream",
     "text": [
      "Alice's favorite numbers are:\n",
      "- 7\n",
      "- 19\n",
      "\n",
      "Bob's favorite numbers are:\n",
      "- 13\n",
      "\n",
      "Charlie's favorite numbers are:\n",
      "- 21\n",
      "- 5\n",
      "\n"
     ]
    }
   ],
   "source": [
    "favorite_numbers = {\n",
    "    \"Alice\": [7,19],\n",
    "    \"Bob\": [13],\n",
    "    \"Charlie\": [21, 5],\n",
    "}\n",
    "\n",
    "for name, numbers in favorite_numbers.items():\n",
    "    print(f\"{name}'s favorite numbers are:\")\n",
    "    for number in numbers:\n",
    "        print(f\"- {number}\")\n",
    "    print()  "
   ]
  },
  {
   "cell_type": "code",
   "execution_count": null,
   "id": "e8a4a9f6",
   "metadata": {},
   "outputs": [],
   "source": [
    "#6-11"
   ]
  },
  {
   "cell_type": "code",
   "execution_count": 44,
   "id": "89fee797",
   "metadata": {},
   "outputs": [
    {
     "name": "stdout",
     "output_type": "stream",
     "text": [
      "Beijing:\n",
      "Country: China\n",
      "Population: 21.5 million\n",
      "Fact: Home to numerous historical landmarks such as the Forbidden City and the Great Wall.\n",
      "\n",
      "Tokyo:\n",
      "Country: Japan\n",
      "Population: 13..jpg million\n",
      "Fact: One of the world's most populous metropolitan areas and known for its blend of modern technology and traditional culture.\n",
      "\n",
      "Paris:\n",
      "Country: France\n",
      "Population: 2.2 million\n",
      "Fact: Famous for iconic landmarks like the Eiffel Tower and Louvre Museum, and renowned for its cuisine, fashion, and art.\n",
      "\n"
     ]
    }
   ],
   "source": [
    "cities = {\n",
    "    \"Beijing\": {\n",
    "        \"country\": \"China\",\n",
    "        \"population\": \"21.5 million\",\n",
    "        \"fact\": \"Home to numerous historical landmarks such as the Forbidden City and the Great Wall.\",\n",
    "    },\n",
    "    \"Tokyo\": {\n",
    "        \"country\": \"Japan\",\n",
    "        \"population\": \"13..jpg million\",\n",
    "        \"fact\": \"One of the world's most populous metropolitan areas and known for its blend of modern technology and traditional culture.\",\n",
    "    },\n",
    "    \"Paris\": {\n",
    "        \"country\": \"France\",\n",
    "        \"population\": \"2.2 million\",\n",
    "        \"fact\": \"Famous for iconic landmarks like the Eiffel Tower and Louvre Museum, and renowned for its cuisine, fashion, and art.\",\n",
    "    },\n",
    "}\n",
    "for city, details in cities.items():\n",
    "    print(f\"{city}:\")\n",
    "    print(f\"Country: {details['country']}\")\n",
    "    print(f\"Population: {details['population']}\")\n",
    "    print(f\"Fact: {details['fact']}\\n\")\n"
   ]
  },
  {
   "cell_type": "code",
   "execution_count": null,
   "id": "3ae04e8c",
   "metadata": {},
   "outputs": [],
   "source": []
  }
 ],
 "metadata": {
  "kernelspec": {
   "display_name": "Python 3 (ipykernel)",
   "language": "python",
   "name": "python3"
  },
  "language_info": {
   "codemirror_mode": {
    "name": "ipython",
    "version": 3
   },
   "file_extension": ".py",
   "mimetype": "text/x-python",
   "name": "python",
   "nbconvert_exporter": "python",
   "pygments_lexer": "ipython3",
   "version": "3.9.13"
  }
 },
 "nbformat": 4,
 "nbformat_minor": 5
}
