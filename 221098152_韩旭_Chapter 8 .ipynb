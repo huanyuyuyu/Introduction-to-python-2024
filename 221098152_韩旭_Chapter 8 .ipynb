{
 "cells": [
  {
   "cell_type": "markdown",
   "id": "37f6e349",
   "metadata": {},
   "source": [
    "# 8.1 定义函数"
   ]
  },
  {
   "cell_type": "code",
   "execution_count": 3,
   "id": "54057c92",
   "metadata": {},
   "outputs": [
    {
     "name": "stdout",
     "output_type": "stream",
     "text": [
      "Hello！\n"
     ]
    }
   ],
   "source": [
    "def greet_user():\n",
    "    \"\"\"显示简单的问候语\"\"\"\n",
    "    print(\"Hello！\")\n",
    "greet_user()"
   ]
  },
  {
   "cell_type": "markdown",
   "id": "fcf9b1c4",
   "metadata": {},
   "source": [
    "## 8.1.1 向函数传递信息"
   ]
  },
  {
   "cell_type": "code",
   "execution_count": 4,
   "id": "b7ac9341",
   "metadata": {},
   "outputs": [
    {
     "name": "stdout",
     "output_type": "stream",
     "text": [
      "Hello,Jesse!\n"
     ]
    }
   ],
   "source": [
    "def greet_user(username):\n",
    "    \"\"\"显示简单的问候语\"\"\"\n",
    "    print(\"Hello,\"+ username.title() + \"!\")\n",
    "greet_user(\"Jesse\")"
   ]
  },
  {
   "cell_type": "markdown",
   "id": "2601458f",
   "metadata": {},
   "source": [
    "# 8.2 传递实参"
   ]
  },
  {
   "cell_type": "markdown",
   "id": "94cdeb0a",
   "metadata": {},
   "source": [
    "## 8.2.1 位置实参"
   ]
  },
  {
   "cell_type": "code",
   "execution_count": 6,
   "id": "c148053d",
   "metadata": {},
   "outputs": [
    {
     "name": "stdout",
     "output_type": "stream",
     "text": [
      "\n",
      "I have ahamster.\n",
      "Myhamsters’name isHarry.\n"
     ]
    }
   ],
   "source": [
    "def describe_pet(animal_type,pet_name):\n",
    "    \"\"\"显示宠物的信息\"\"\"\n",
    "    print(\"\\nI have a\" + animal_type + \".\")\n",
    "    print(\"My\" + animal_type + \"s’name is\"+ pet_name.title() + \".\")\n",
    "describe_pet(\"hamster\",\"harry\")"
   ]
  },
  {
   "cell_type": "code",
   "execution_count": 8,
   "id": "ab6a8e1d",
   "metadata": {},
   "outputs": [
    {
     "name": "stdout",
     "output_type": "stream",
     "text": [
      "\n",
      "I have ahamster.\n",
      "Myhamsters’name is Harry.\n",
      "\n",
      "I have adog.\n",
      "Mydogs’name is Willie.\n"
     ]
    }
   ],
   "source": [
    "def describe_pet(animal_type,pet_name):\n",
    "    \"\"\"显示宠物的信息\"\"\"\n",
    "    print(\"\\nI have a\" + animal_type + \".\")\n",
    "    print(\"My\" + animal_type + \"s’name is \"+ pet_name.title() + \".\")\n",
    "describe_pet(\"hamster\",\"harry\")\n",
    "describe_pet(\"dog\",\"willie\")"
   ]
  },
  {
   "cell_type": "code",
   "execution_count": 9,
   "id": "e36a4663",
   "metadata": {},
   "outputs": [
    {
     "name": "stdout",
     "output_type": "stream",
     "text": [
      "\n",
      "I have ahamster.\n",
      "Myhamsters’name is Harry.\n",
      "\n",
      "I have aharry.\n",
      "Myharrys’name is Hamster.\n"
     ]
    }
   ],
   "source": [
    "def describe_pet(animal_type,pet_name):\n",
    "    \"\"\"显示宠物的信息\"\"\"\n",
    "    print(\"\\nI have a\" + animal_type + \".\")\n",
    "    print(\"My\" + animal_type + \"s’name is \"+ pet_name.title() + \".\")\n",
    "describe_pet(\"hamster\",\"harry\")\n",
    "describe_pet(\"harry\",\"hamster\")"
   ]
  },
  {
   "cell_type": "markdown",
   "id": "60832158",
   "metadata": {},
   "source": [
    "## 8.2.2 关键字实参"
   ]
  },
  {
   "cell_type": "code",
   "execution_count": 11,
   "id": "488916a7",
   "metadata": {},
   "outputs": [
    {
     "name": "stdout",
     "output_type": "stream",
     "text": [
      "\n",
      "I have a hamster.\n",
      "My hamsters’name is Harry.\n"
     ]
    }
   ],
   "source": [
    "def describe_pet(animal_type,pet_name):\n",
    "    \"\"\"显示宠物的信息\"\"\"\n",
    "    print(\"\\nI have a \" + animal_type + \".\")\n",
    "    print(\"My \" + animal_type + \"s’name is \"+ pet_name.title() + \".\")\n",
    "describe_pet(animal_type=\"hamster\",pet_name=\"harry\")"
   ]
  },
  {
   "cell_type": "markdown",
   "id": "fbee52f3",
   "metadata": {},
   "source": [
    "## 8.2.3 默认值"
   ]
  },
  {
   "cell_type": "code",
   "execution_count": 13,
   "id": "c5884756",
   "metadata": {},
   "outputs": [
    {
     "name": "stdout",
     "output_type": "stream",
     "text": [
      "\n",
      "I have a dog.\n",
      "My dogs’name is Willie.\n"
     ]
    }
   ],
   "source": [
    "def describe_pet(pet_name,animal_type=\"dog\"):\n",
    "    \"\"\"显示宠物的信息\"\"\"\n",
    "    print(\"\\nI have a \" + animal_type + \".\")\n",
    "    print(\"My \" + animal_type + \"s’name is \"+ pet_name.title() + \".\")\n",
    "describe_pet(pet_name=\"willie\")"
   ]
  },
  {
   "cell_type": "markdown",
   "id": "cefb041d",
   "metadata": {},
   "source": [
    "## 8.2.4 等效的函数调用"
   ]
  },
  {
   "cell_type": "code",
   "execution_count": 16,
   "id": "3627f06b",
   "metadata": {},
   "outputs": [],
   "source": [
    "def describe_pet(pet_name,animal_type=\"dog\"):\n",
    "    describe_pet(\"willie\")\n",
    "    describe_pet(pet_name = \"willie\")\n",
    "    describe_pet(\"harry\",\"hamster\")\n",
    "    describe_pet(pet_name = \"harry\",animal_type= \"hamster\")\n",
    "    describe_pet(animal_type=\"hamster\",pet_name=\"harry\")"
   ]
  },
  {
   "cell_type": "markdown",
   "id": "9334e177",
   "metadata": {},
   "source": [
    "## 8.3 返回值"
   ]
  },
  {
   "cell_type": "code",
   "execution_count": 21,
   "id": "c315e8bb",
   "metadata": {},
   "outputs": [
    {
     "name": "stdout",
     "output_type": "stream",
     "text": [
      "Jimi Hendrix\n"
     ]
    }
   ],
   "source": [
    "def get_formatted_name(first_name,last_name):\n",
    "    \"\"\"返回整洁的姓名\"\"\"\n",
    "    full_name = first_name + \" \" + last_name\n",
    "    return full_name.title()\n",
    "musician = get_formatted_name(\"jimi\",\"hendrix\")\n",
    "print(musician)"
   ]
  },
  {
   "cell_type": "markdown",
   "id": "ae7debba",
   "metadata": {},
   "source": [
    "### 8.3.2 让实参变成可选的"
   ]
  },
  {
   "cell_type": "code",
   "execution_count": 19,
   "id": "c067ad77",
   "metadata": {},
   "outputs": [
    {
     "name": "stdout",
     "output_type": "stream",
     "text": [
      "John Lee Hooker\n"
     ]
    }
   ],
   "source": [
    "def  get_formatted_name(first_name,middle_name,last_name):\n",
    "    \"\"\"返回整洁的姓名\"\"\"\n",
    "    full_name = first_name+\" \"+middle_name+\" \"+last_name\n",
    "    return full_name.title()\n",
    "musician = get_formatted_name(\"john\",\"lee\",\"hooker\")\n",
    "print(musician)"
   ]
  },
  {
   "cell_type": "code",
   "execution_count": 20,
   "id": "3ae6c85b",
   "metadata": {},
   "outputs": [
    {
     "name": "stdout",
     "output_type": "stream",
     "text": [
      "Jimi Hendrix\n",
      "Join Hooker Hooker\n"
     ]
    }
   ],
   "source": [
    "def get_formatted_name(first_name,last_name,middle_name=\"\"):\n",
    "    \"\"\"返回整洁的姓名\"\"\"\n",
    "    if middle_name:\n",
    "        full_name = first_name+\" \"+last_name+\" \"+ last_name\n",
    "    else:\n",
    "        full_name = first_name + \" \"+last_name\n",
    "    return full_name.title()\n",
    "musician = get_formatted_name(\"jimi\",\"hendrix\")\n",
    "print(musician)\n",
    "musician = get_formatted_name(\"join\",\"hooker\",\"lee\")\n",
    "print(musician)"
   ]
  },
  {
   "cell_type": "markdown",
   "id": "df6ab93d",
   "metadata": {},
   "source": [
    "### 8.3.3 返回字典"
   ]
  },
  {
   "cell_type": "code",
   "execution_count": 22,
   "id": "d389e423",
   "metadata": {},
   "outputs": [
    {
     "name": "stdout",
     "output_type": "stream",
     "text": [
      "{'first': 'jimi', 'last': 'hendrix'}\n"
     ]
    }
   ],
   "source": [
    "def build_person(first_name,last_name):\n",
    "    \"\"\"返回一个字典，其中包含有关一个人的信息\"\"\"\n",
    "    person = {\"first\":first_name,\"last\":last_name}\n",
    "    return person\n",
    "musician = build_person(\"jimi\",\"hendrix\")\n",
    "print(musician)"
   ]
  },
  {
   "cell_type": "markdown",
   "id": "b2e82f46",
   "metadata": {},
   "source": [
    "### 8.3.4结合使用函数和while循环"
   ]
  },
  {
   "cell_type": "code",
   "execution_count": 6,
   "id": "b30ee6df",
   "metadata": {},
   "outputs": [
    {
     "name": "stdout",
     "output_type": "stream",
     "text": [
      "\n",
      "Please tell me your name:\n",
      "(enter 'q' at any time to quit)\n",
      "First name: Eric\n",
      "Last name:matthes\n",
      "\n",
      "Hello,Eric Matthes!\n",
      "\n",
      "Please tell me your name:\n",
      "(enter 'q' at any time to quit)\n",
      "First name: q\n"
     ]
    }
   ],
   "source": [
    "def get_formatted_name(first_name,last_name):\n",
    "    \"\"\"返回整洁的姓名\"\"\"\n",
    "    full_name = first_name+\" \"+ last_name\n",
    "    return full_name.title()\n",
    "\n",
    "while True:\n",
    "    print(\"\\nPlease tell me your name:\")\n",
    "    print(\"(enter 'q' at any time to quit)\")\n",
    "    \n",
    "    f_name = input(\"First name: \")\n",
    "    if f_name == \"q\":\n",
    "        break\n",
    "    l_name = input(\"Last name:\")\n",
    "    if l_name == \"q\":\n",
    "        break\n",
    "    formatted_name = get_formatted_name(f_name,l_name)\n",
    "    print(\"\\nHello,\"+ formatted_name + \"!\")\n",
    "    "
   ]
  },
  {
   "cell_type": "markdown",
   "id": "9497ba89",
   "metadata": {},
   "source": [
    "## 8.4 传递列表"
   ]
  },
  {
   "cell_type": "code",
   "execution_count": 7,
   "id": "16bd84bb",
   "metadata": {},
   "outputs": [
    {
     "name": "stdout",
     "output_type": "stream",
     "text": [
      "Hello,Hannah!\n",
      "Hello,Ty!\n",
      "Hello,Margot!\n"
     ]
    }
   ],
   "source": [
    "def greet_users(names):\n",
    "    \"\"\"向列表中的每位用户都发出简单的问候\"\"\"\n",
    "    for name in names:\n",
    "        msg = \"Hello,\" + name.title() + \"!\"\n",
    "        print(msg)\n",
    "usernames = [\"hannah\",\"ty\",\"margot\"]\n",
    "greet_users(usernames)"
   ]
  },
  {
   "cell_type": "markdown",
   "id": "f0a189ba",
   "metadata": {},
   "source": [
    "### 8.4.1 在函数中修改列表"
   ]
  },
  {
   "cell_type": "code",
   "execution_count": 10,
   "id": "0b0751f5",
   "metadata": {
    "scrolled": true
   },
   "outputs": [
    {
     "name": "stdout",
     "output_type": "stream",
     "text": [
      "Printing model:dodecahedron\n",
      "Printing model:robot pendant\n",
      "Printing model:iphone case\n",
      "\n",
      "The following models have been printed:\n",
      "dodecahedron\n",
      "robot pendant\n",
      "iphone case\n"
     ]
    }
   ],
   "source": [
    "unprinted_designs = [ \"iphone case\",\"robot pendant\",\"dodecahedron\"]\n",
    "completed_models = []\n",
    "while unprinted_designs:\n",
    "    current_design = unprinted_designs.pop()\n",
    "    print(\"Printing model:\" +current_design)\n",
    "    completed_models.append(current_design)\n",
    "print(\"\\nThe following models have been printed:\")\n",
    "for completed_model in completed_models:\n",
    "    print(completed_model)"
   ]
  },
  {
   "cell_type": "code",
   "execution_count": 1,
   "id": "3f9151a9",
   "metadata": {},
   "outputs": [],
   "source": [
    "#深拷贝和浅拷贝"
   ]
  },
  {
   "cell_type": "code",
   "execution_count": 11,
   "id": "24e921d6",
   "metadata": {},
   "outputs": [
    {
     "name": "stdout",
     "output_type": "stream",
     "text": [
      "Printing model:dodecahedron\n",
      "Printing model:robot pendant\n",
      "Printing model:iphone case\n",
      "\n",
      "The following models have been printed\n"
     ]
    }
   ],
   "source": [
    "def print_models(unprinted_designs,completed_models):\n",
    "    while unprinted_designs:\n",
    "        current_design = unprinted_designs.pop()\n",
    "        print(\"Printing model:\" + current_design)\n",
    "        \n",
    "def show_completed_models(completed_models):\n",
    "    \"\"\"显示打印好的所有模型\"\"\"\n",
    "    print(\"\\nThe following models have been printed\")\n",
    "    \n",
    "    for completed_model in completed_models:\n",
    "        print(completed_model)\n",
    "        \n",
    "unprinted_designs = [\"iphone case\",\"robot pendant\",\"dodecahedron\"]\n",
    "completed_models = []\n",
    "\n",
    "print_models(unprinted_designs,completed_models)\n",
    "show_completed_models(completed_models)"
   ]
  },
  {
   "cell_type": "markdown",
   "id": "c7515585",
   "metadata": {},
   "source": [
    "## 8.1-8.4 习题"
   ]
  },
  {
   "cell_type": "code",
   "execution_count": 12,
   "id": "0e3eca8b",
   "metadata": {},
   "outputs": [],
   "source": [
    "#8-1习题"
   ]
  },
  {
   "cell_type": "code",
   "execution_count": 14,
   "id": "e5b38bad",
   "metadata": {},
   "outputs": [
    {
     "name": "stdout",
     "output_type": "stream",
     "text": [
      "I learn Python\n"
     ]
    }
   ],
   "source": [
    "def display_message(k):\n",
    "    print(\"I learn\"+\" \"+k)\n",
    "m = \"Python\"\n",
    "display_message(m)"
   ]
  },
  {
   "cell_type": "code",
   "execution_count": null,
   "id": "ce020e1b",
   "metadata": {},
   "outputs": [],
   "source": [
    "#8-2习题"
   ]
  },
  {
   "cell_type": "code",
   "execution_count": 18,
   "id": "2fff6014",
   "metadata": {},
   "outputs": [
    {
     "name": "stdout",
     "output_type": "stream",
     "text": [
      "One of my favorite books is Alice is me\n"
     ]
    }
   ],
   "source": [
    "def favorite_book(title):\n",
    "    print(\"One of my favorite books is \"+title)\n",
    "favorite_book(\"Alice is me\")\n",
    "    "
   ]
  },
  {
   "cell_type": "code",
   "execution_count": null,
   "id": "ec784468",
   "metadata": {},
   "outputs": [],
   "source": [
    "# 8.3习题"
   ]
  },
  {
   "cell_type": "code",
   "execution_count": 22,
   "id": "eaefd795",
   "metadata": {},
   "outputs": [
    {
     "name": "stdout",
     "output_type": "stream",
     "text": [
      "The T-shirt is 3 5\n"
     ]
    }
   ],
   "source": [
    "def make_shirt(a,b):\n",
    "    print(\"The T-shirt is \"+a+\" \"+b)\n",
    "make_shirt(\"3\",\"5\")"
   ]
  },
  {
   "cell_type": "code",
   "execution_count": 23,
   "id": "0b2b8620",
   "metadata": {},
   "outputs": [],
   "source": [
    "#8-4习题"
   ]
  },
  {
   "cell_type": "code",
   "execution_count": 26,
   "id": "055fac9a",
   "metadata": {},
   "outputs": [
    {
     "name": "stdout",
     "output_type": "stream",
     "text": [
      "The T-shirt say I love python\n"
     ]
    }
   ],
   "source": [
    "def make_shirt(size = \"large\",message = \"I love python\"):\n",
    "    print(\"The T-shirt say \"+\"I love python\")\n",
    "make_shirt()"
   ]
  },
  {
   "cell_type": "code",
   "execution_count": 25,
   "id": "7fa27069",
   "metadata": {},
   "outputs": [],
   "source": [
    "#8-5习题"
   ]
  },
  {
   "cell_type": "code",
   "execution_count": 29,
   "id": "92d4078a",
   "metadata": {},
   "outputs": [
    {
     "name": "stdout",
     "output_type": "stream",
     "text": [
      "Beijingis in Iceland China\n",
      "Newyorkis in Iceland US\n",
      "Dong Jingis in Iceland Japan\n"
     ]
    }
   ],
   "source": [
    "def describe_city(a = \"Reykjavik\",b = \"Iceland\"):\n",
    "    print(a + \"is in Iceland \"+b)\n",
    "describe_city(\"Beijing\",\"China\")\n",
    "describe_city(\"Newyork\",\"US\")\n",
    "describe_city(\"Dong Jing\",\"Japan\")"
   ]
  },
  {
   "cell_type": "code",
   "execution_count": 30,
   "id": "f7bad924",
   "metadata": {},
   "outputs": [],
   "source": [
    "#8-6习题"
   ]
  },
  {
   "cell_type": "code",
   "execution_count": 38,
   "id": "ad37d276",
   "metadata": {},
   "outputs": [
    {
     "name": "stdout",
     "output_type": "stream",
     "text": [
      "Beijing China\n"
     ]
    },
    {
     "data": {
      "text/plain": [
       "'Beijing China'"
      ]
     },
     "execution_count": 38,
     "metadata": {},
     "output_type": "execute_result"
    }
   ],
   "source": [
    "def city_country(a,b):\n",
    "    print(a+\" \"+b)\n",
    "    return f\"{a} {b}\"\n",
    "city_country(\"Beijing\",\"China\")\n"
   ]
  },
  {
   "cell_type": "code",
   "execution_count": 39,
   "id": "21627600",
   "metadata": {},
   "outputs": [],
   "source": [
    "#8-7习题"
   ]
  },
  {
   "cell_type": "code",
   "execution_count": 42,
   "id": "20e8ae04",
   "metadata": {},
   "outputs": [
    {
     "name": "stdout",
     "output_type": "stream",
     "text": [
      "{'singer': '周杰伦', 'album': '范特西'}\n",
      "{'singer': '林俊杰', 'album': '她说'}\n",
      "{'singer': '王菲', 'album': '天空'}\n"
     ]
    }
   ],
   "source": [
    "def make_album(singer, album):\n",
    "    return {\"singer\": singer, \"album\": album}\n",
    "print(make_album(\"周杰伦\", \"范特西\"))\n",
    "print(make_album(\"林俊杰\", \"她说\"))\n",
    "print(make_album(\"王菲\", \"天空\"))"
   ]
  },
  {
   "cell_type": "code",
   "execution_count": 45,
   "id": "d82922bb",
   "metadata": {},
   "outputs": [
    {
     "name": "stdout",
     "output_type": "stream",
     "text": [
      "{'singer': '周杰伦', 'album': '范特西', 10: 10}\n",
      "{'singer': '林俊杰', 'album': '她说'}\n",
      "{'singer': '王菲', 'album': '天空'}\n"
     ]
    }
   ],
   "source": [
    "def make_album(singer,album,num_song = None):\n",
    "    album_info = {\"singer\": singer, \"album\": album}\n",
    "    if num_song:\n",
    "        album_info[num_song]=num_song\n",
    "    return album_info\n",
    "print(make_album(\"周杰伦\", \"范特西\",10))\n",
    "print(make_album(\"林俊杰\", \"她说\"))\n",
    "print(make_album(\"王菲\", \"天空\"))"
   ]
  },
  {
   "cell_type": "code",
   "execution_count": 41,
   "id": "a9c51d50",
   "metadata": {},
   "outputs": [],
   "source": [
    "#8-8习题"
   ]
  },
  {
   "cell_type": "code",
   "execution_count": 46,
   "id": "be7fde95",
   "metadata": {},
   "outputs": [
    {
     "name": "stdout",
     "output_type": "stream",
     "text": [
      "请输入专辑的歌手（输入 'q' 退出）：q\n"
     ]
    }
   ],
   "source": [
    "def make_album(singer,album,num_song = None):\n",
    "    album_info = {\"singer\": singer, \"album\": album}\n",
    "    if num_song:\n",
    "        album_info[num_song]=num_song\n",
    "    return album_info\n",
    "while True:\n",
    "    singer = input(\"请输入专辑的歌手（输入 'q' 退出）：\")\n",
    "    if singer == 'q':\n",
    "        break\n",
    "    album = input(\"请输入专辑的名称（输入 'q' 退出）：\")\n",
    "    if album == 'q':\n",
    "        break\n",
    "    album_info = make_album(singer, album)\n",
    "    print(album_info)"
   ]
  },
  {
   "cell_type": "code",
   "execution_count": 47,
   "id": "5a6c3949",
   "metadata": {},
   "outputs": [],
   "source": [
    "# 8-9习题"
   ]
  },
  {
   "cell_type": "code",
   "execution_count": 48,
   "id": "6c51fb54",
   "metadata": {},
   "outputs": [
    {
     "name": "stdout",
     "output_type": "stream",
     "text": [
      "大卫·科波菲尔\n",
      "克里斯·安吉尔\n",
      "达里尔·穆罗\n"
     ]
    }
   ],
   "source": [
    " def show_magicians(magicians):\n",
    "    for magician in magicians:\n",
    "        print(magician)\n",
    "magicians = ['大卫·科波菲尔', '克里斯·安吉尔', '达里尔·穆罗']\n",
    "show_magicians(magicians)"
   ]
  },
  {
   "cell_type": "code",
   "execution_count": 49,
   "id": "076bb003",
   "metadata": {},
   "outputs": [],
   "source": [
    "#8-10习题"
   ]
  },
  {
   "cell_type": "code",
   "execution_count": 50,
   "id": "63b24bb1",
   "metadata": {},
   "outputs": [
    {
     "name": "stdout",
     "output_type": "stream",
     "text": [
      "the Great 大卫·科波菲尔\n",
      "the Great 克里斯·安吉尔\n",
      "the Great 达里尔·穆罗\n"
     ]
    }
   ],
   "source": [
    "def show_magicians(magicians):\n",
    "    for magician in magicians:\n",
    "        print(magician)\n",
    "\n",
    "def make_great(magicians):\n",
    "    for i in range(len(magicians)):\n",
    "        magicians[i] = 'the Great ' + magicians[i]\n",
    "\n",
    "magicians = ['大卫·科波菲尔', '克里斯·安吉尔', '达里尔·穆罗']\n",
    "make_great(magicians)\n",
    "show_magicians(magicians)"
   ]
  },
  {
   "cell_type": "code",
   "execution_count": null,
   "id": "ac66e7d8",
   "metadata": {},
   "outputs": [],
   "source": [
    "#8-11习题"
   ]
  },
  {
   "cell_type": "code",
   "execution_count": 51,
   "id": "48b29eef",
   "metadata": {},
   "outputs": [
    {
     "name": "stdout",
     "output_type": "stream",
     "text": [
      "Original magicians:\n",
      "大卫·科波菲尔\n",
      "克里斯·安吉尔\n",
      "达里尔·穆罗\n",
      "Great magicians:\n",
      "the Great 大卫·科波菲尔\n",
      "the Great 克里斯·安吉尔\n",
      "the Great 达里尔·穆罗\n"
     ]
    }
   ],
   "source": [
    "def show_magicians(magicians):\n",
    "    for magician in magicians:\n",
    "        print(magician)\n",
    "\n",
    "def make_great(magicians):\n",
    "    great_magicians = []\n",
    "    for i in range(len(magicians)):\n",
    "        great_magicians.append('the Great ' + magicians[i])\n",
    "    return great_magicians\n",
    "\n",
    "magicians = ['大卫·科波菲尔', '克里斯·安吉尔', '达里尔·穆罗']\n",
    "original_magicians = magicians[:]\n",
    "great_magicians = make_great(original_magicians)\n",
    "\n",
    "print(\"Original magicians:\")\n",
    "show_magicians(original_magicians)\n",
    "print(\"Great magicians:\")\n",
    "show_magicians(great_magicians)"
   ]
  },
  {
   "cell_type": "markdown",
   "id": "42cbbf8f",
   "metadata": {},
   "source": [
    "## 8.5 传递任意数量的实参"
   ]
  },
  {
   "cell_type": "code",
   "execution_count": 2,
   "id": "45028406",
   "metadata": {},
   "outputs": [
    {
     "name": "stdout",
     "output_type": "stream",
     "text": [
      "('pepperoni',)\n",
      "('mushroom', 'green peppers', 'extra cheese')\n"
     ]
    }
   ],
   "source": [
    "def make_pizza(*toppings):\n",
    "    \"\"\"打印顾客点的所有配料\"\"\"\n",
    "    print(toppings)\n",
    "make_pizza(\"pepperoni\")\n",
    "make_pizza(\"mushroom\",\"green peppers\",\"extra cheese\")"
   ]
  },
  {
   "cell_type": "code",
   "execution_count": 3,
   "id": "ebcff61e",
   "metadata": {},
   "outputs": [
    {
     "name": "stdout",
     "output_type": "stream",
     "text": [
      "\n",
      "Making a pizza with the following toppings:\n",
      "-pepperoni\n",
      "\n",
      "Making a pizza with the following toppings:\n",
      "-mushrooms\n",
      "-green peppers\n",
      "-extra cheese\n"
     ]
    }
   ],
   "source": [
    "def make_pizza(*toppings):\n",
    "    \"\"\"概述要制作的比萨\"\"\"\n",
    "    print(\"\\nMaking a pizza with the following toppings:\")\n",
    "    for topping in toppings:\n",
    "        print(\"-\"+ topping)\n",
    "make_pizza(\"pepperoni\")\n",
    "make_pizza(\"mushrooms\",\"green peppers\",\"extra cheese\")"
   ]
  },
  {
   "cell_type": "markdown",
   "id": "c2a007f7",
   "metadata": {},
   "source": [
    "### 8.5.1 结合使用位置实参和任意数量实参"
   ]
  },
  {
   "cell_type": "code",
   "execution_count": 5,
   "id": "e808ec6d",
   "metadata": {},
   "outputs": [
    {
     "name": "stdout",
     "output_type": "stream",
     "text": [
      "\n",
      "Making a16-inch pizza with the following toppings:\n",
      "-pepperoni\n",
      "\n",
      "Making a12-inch pizza with the following toppings:\n",
      "-mushrooms\n",
      "-green peppers\n",
      "-extra cheese\n"
     ]
    }
   ],
   "source": [
    "def make_pizza(size,*toppings):\n",
    "    \"\"\"概述要制作的比萨\"\"\"\n",
    "    print(\"\\nMaking a\"+ str(size)+\"-inch pizza with the following toppings:\")\n",
    "    for topping in toppings:\n",
    "        print(\"-\"+ topping)\n",
    "make_pizza(16,\"pepperoni\")\n",
    "make_pizza(12,\"mushrooms\",\"green peppers\",\"extra cheese\")"
   ]
  },
  {
   "cell_type": "markdown",
   "id": "45fa79f0",
   "metadata": {},
   "source": [
    "### 8.5.2 使用任意数量的关键字实参"
   ]
  },
  {
   "cell_type": "code",
   "execution_count": 6,
   "id": "79f8d4c2",
   "metadata": {},
   "outputs": [
    {
     "name": "stdout",
     "output_type": "stream",
     "text": [
      "{'first_name': 'albert', 'last_name': 'einstein', 'location': 'princeton', 'field': 'physics'}\n"
     ]
    }
   ],
   "source": [
    "def build_profile(first,last,**user_info):\n",
    "    profile = {}\n",
    "    profile[\"first_name\"] = first\n",
    "    profile[\"last_name\"] = last\n",
    "    for key,value in user_info.items():\n",
    "        profile[key]=value\n",
    "    return profile\n",
    "user_profile = build_profile(\"albert\",\"einstein\",location=\"princeton\",field=\"physics\")\n",
    "print(user_profile)"
   ]
  },
  {
   "cell_type": "markdown",
   "id": "6400e01b",
   "metadata": {},
   "source": [
    "## 8.6 将函数存储在模块中"
   ]
  },
  {
   "cell_type": "markdown",
   "id": "fc686fbb",
   "metadata": {},
   "source": [
    "### 8.6.1 导入整个模块"
   ]
  },
  {
   "cell_type": "code",
   "execution_count": null,
   "id": "af0626d1",
   "metadata": {},
   "outputs": [],
   "source": [
    "import pizza\n",
    "#导入模块\n",
    "pizza.make_pizza(16,\"pepperoni\")\n",
    "pizza.make_pizza(12,\"muhrooms\",\"green peppers\",\"extra cheese\")\n",
    "#调用函数"
   ]
  },
  {
   "cell_type": "markdown",
   "id": "ec5fe75e",
   "metadata": {},
   "source": [
    "### 8.6.2 导入特定的函数"
   ]
  },
  {
   "cell_type": "code",
   "execution_count": 23,
   "id": "ea780781",
   "metadata": {
    "collapsed": true
   },
   "outputs": [
    {
     "ename": "NameError",
     "evalue": "name 'module_name' is not defined",
     "output_type": "error",
     "traceback": [
      "\u001b[1;31m---------------------------------------------------------------------------\u001b[0m",
      "\u001b[1;31mNameError\u001b[0m                                 Traceback (most recent call last)",
      "\u001b[1;32m~\\AppData\\Local\\Temp\\ipykernel_21716\\2687168139.py\u001b[0m in \u001b[0;36m<module>\u001b[1;34m\u001b[0m\n\u001b[1;32m----> 1\u001b[1;33m \u001b[0mmodule_name\u001b[0m\u001b[1;33m.\u001b[0m\u001b[0mfunction_name\u001b[0m\u001b[1;33m(\u001b[0m\u001b[1;33m)\u001b[0m\u001b[1;33m\u001b[0m\u001b[1;33m\u001b[0m\u001b[0m\n\u001b[0m\u001b[0;32m      2\u001b[0m \u001b[1;32mfrom\u001b[0m \u001b[0mmodule_name\u001b[0m \u001b[1;32mimport\u001b[0m \u001b[0mmake_pizza\u001b[0m\u001b[1;33m\u001b[0m\u001b[1;33m\u001b[0m\u001b[0m\n\u001b[0;32m      3\u001b[0m \u001b[0mmake_pizza\u001b[0m\u001b[1;33m(\u001b[0m\u001b[1;36m16\u001b[0m\u001b[1;33m,\u001b[0m\u001b[1;34m\"pepperoni\"\u001b[0m\u001b[1;33m)\u001b[0m\u001b[1;33m\u001b[0m\u001b[1;33m\u001b[0m\u001b[0m\n\u001b[0;32m      4\u001b[0m \u001b[0mmake_pizza\u001b[0m\u001b[1;33m(\u001b[0m\u001b[1;36m12\u001b[0m\u001b[1;33m,\u001b[0m\u001b[1;34m\"mushrooms\"\u001b[0m\u001b[1;33m,\u001b[0m\u001b[1;34m\"green peppers\"\u001b[0m\u001b[1;33m,\u001b[0m\u001b[1;34m\"extra cheese\"\u001b[0m\u001b[1;33m)\u001b[0m\u001b[1;33m\u001b[0m\u001b[1;33m\u001b[0m\u001b[0m\n",
      "\u001b[1;31mNameError\u001b[0m: name 'module_name' is not defined"
     ]
    }
   ],
   "source": [
    "module_name.function_name()\n",
    "from module_name import make_pizza\n",
    "make_pizza(16,\"pepperoni\")\n",
    "make_pizza(12,\"mushrooms\",\"green peppers\",\"extra cheese\")"
   ]
  },
  {
   "cell_type": "markdown",
   "id": "6ddc9e96",
   "metadata": {},
   "source": [
    "### 8.6.3 使用as 给函数指定别名"
   ]
  },
  {
   "cell_type": "code",
   "execution_count": null,
   "id": "3fab88e9",
   "metadata": {},
   "outputs": [],
   "source": [
    "from pizza import make_pizza as mp \n",
    "#调用函数\n",
    "mp(16, 'pepperoni') \n",
    "mp(12, 'mushrooms', 'green peppers', 'extra cheese') \n",
    "from module_name import function_name as fn"
   ]
  },
  {
   "cell_type": "markdown",
   "id": "b2ae9e81",
   "metadata": {},
   "source": [
    "### 8.6.4 使用as给模块指定别名"
   ]
  },
  {
   "cell_type": "code",
   "execution_count": null,
   "id": "f13f5009",
   "metadata": {},
   "outputs": [],
   "source": [
    "import pizza as p\n",
    "#导入函数\n",
    "p.make_pizza(16,\"pepperoni\")\n",
    "p.make_pizza(12,\"mushrooms\",\"green peppers\",\"extra cheese\")"
   ]
  },
  {
   "cell_type": "markdown",
   "id": "1b5702d4",
   "metadata": {},
   "source": [
    "### 8.6.5 导入模块中的所有函数"
   ]
  },
  {
   "cell_type": "code",
   "execution_count": null,
   "id": "5259b5f9",
   "metadata": {},
   "outputs": [],
   "source": [
    "fropepperm pizza import*\n",
    "# 导入函数\n",
    "make_pizza(16,\"pepperoni\")\n",
    "make_pizza(12,\"mushrooms\",\"green peppers\",\"extra cheese\")"
   ]
  },
  {
   "cell_type": "markdown",
   "id": "e1d77104",
   "metadata": {},
   "source": [
    "# 8.5-8.8习题"
   ]
  },
  {
   "cell_type": "code",
   "execution_count": 12,
   "id": "20725cc1",
   "metadata": {},
   "outputs": [],
   "source": [
    "#8-12"
   ]
  },
  {
   "cell_type": "code",
   "execution_count": 13,
   "id": "b565029e",
   "metadata": {},
   "outputs": [
    {
     "name": "stdout",
     "output_type": "stream",
     "text": [
      "Your custom sandwich contains the following ingredients:\n",
      "- lettuce\n",
      "- tomato\n",
      "- ham\n",
      "\n",
      "Your custom sandwich contains the following ingredients:\n",
      "- cheddar cheese\n",
      "- roast beef\n",
      "- mayonnaise\n",
      "- pickles\n",
      "\n",
      "Your custom sandwich contains the following ingredients:\n",
      "- turkey\n",
      "- avocado\n",
      "- spinach\n",
      "- mustard\n",
      "- swiss cheese\n",
      "\n"
     ]
    }
   ],
   "source": [
    "def describe_sandwich(ingredients):\n",
    "    sandwich_description = \"Your custom sandwich contains the following ingredients:\\n\"\n",
    "    for ingredient in ingredients:\n",
    "        sandwich_description += f\"- {ingredient}\\n\"\n",
    "    print(sandwich_description)\n",
    "describe_sandwich(['lettuce', 'tomato', 'ham'])\n",
    "describe_sandwich(['cheddar cheese', 'roast beef', 'mayonnaise', 'pickles'])\n",
    "describe_sandwich(['turkey', 'avocado', 'spinach', 'mustard', 'swiss cheese'])"
   ]
  },
  {
   "cell_type": "code",
   "execution_count": 14,
   "id": "aa875074",
   "metadata": {},
   "outputs": [],
   "source": [
    "# 8-13"
   ]
  },
  {
   "cell_type": "code",
   "execution_count": 24,
   "id": "23685066",
   "metadata": {},
   "outputs": [
    {
     "name": "stdout",
     "output_type": "stream",
     "text": [
      "{'first_name': 'albert', 'last_name': 'einstein', 'location': 'princeton', 'field': 'physics'}\n",
      "{'first_name': 'YourFirstName', 'last_name': 'YourLastName', 'occupation': 'Software Developer', 'hobby': 'Guitar Playing', 'favorite_book': \"The Hitchhiker's Guide to the Galaxy\"}\n"
     ]
    }
   ],
   "source": [
    "def build_profile(first, last, **user_info):\n",
    "    \"\"\"创建一个字典，其中包含我们知道的有关用户的一切\"\"\"\n",
    "    profile = {}\n",
    "    profile['first_name'] = first\n",
    "    profile['last_name'] = last\n",
    "    for key, value in user_info.items():\n",
    "        profile[key] = value\n",
    "    return profile\n",
    "\n",
    "# 原有的调用示例\n",
    "user_profile = build_profile('albert', 'einstein',\n",
    "                            location='princeton',\n",
    "                            field='physics')\n",
    "print(user_profile)\n",
    "\n",
    "# 新增的调用，创建有关您的简介\n",
    "your_profile = build_profile('YourFirstName', 'YourLastName',\n",
    "                             occupation='Software Developer',\n",
    "                             hobby='Guitar Playing',\n",
    "                             favorite_book='The Hitchhiker\\'s Guide to the Galaxy')\n",
    "print(your_profile)\n"
   ]
  },
  {
   "cell_type": "code",
   "execution_count": null,
   "id": "696c3d8e",
   "metadata": {},
   "outputs": [],
   "source": [
    "#8-14"
   ]
  },
  {
   "cell_type": "code",
   "execution_count": 15,
   "id": "ed64b238",
   "metadata": {},
   "outputs": [
    {
     "name": "stdout",
     "output_type": "stream",
     "text": [
      "{'manufacturer': 'subaru', 'model': 'outback', 'color': 'blue', 'tow_package': True}\n"
     ]
    }
   ],
   "source": [
    "def make_car(manufacturer, model, **options):\n",
    "    car_info = {\n",
    "        'manufacturer': manufacturer,\n",
    "        'model': model,\n",
    "    }\n",
    "    car_info.update(options)\n",
    "    return car_info\n",
    "car = make_car('subaru', 'outback', color='blue', tow_package=True)\n",
    "print(car)\n"
   ]
  },
  {
   "cell_type": "code",
   "execution_count": null,
   "id": "45a63238",
   "metadata": {},
   "outputs": [],
   "source": [
    "#8-16"
   ]
  },
  {
   "cell_type": "code",
   "execution_count": null,
   "id": "77e69218",
   "metadata": {},
   "outputs": [],
   "source": [
    "\n",
    "import math_functions\n",
    "# 使用 import module_name 方式\n",
    "print(math_functions.calculate_square(5))\n",
    "from math_functions import calculate_square\n",
    "# 使用 from module_name import function_name 方式\n",
    "print(calculate_square(6))\n",
    "from math_functions import calculate_square as fn\n",
    "# 使用 from module_name import function_name as fn 方式\n",
    "print(fn(7))\n",
    "import math_functions as mn\n",
    "# 使用 import module_name as mn 方式\n",
    "print(mn.calculate_square(8))\n",
    "from math_functions import *\n",
    "# 使用 from module_name import * 方式\n",
    "print(calculate_square(9))"
   ]
  }
 ],
 "metadata": {
  "kernelspec": {
   "display_name": "Python 3 (ipykernel)",
   "language": "python",
   "name": "python3"
  },
  "language_info": {
   "codemirror_mode": {
    "name": "ipython",
    "version": 3
   },
   "file_extension": ".py",
   "mimetype": "text/x-python",
   "name": "python",
   "nbconvert_exporter": "python",
   "pygments_lexer": "ipython3",
   "version": "3.9.13"
  }
 },
 "nbformat": 4,
 "nbformat_minor": 5
}
